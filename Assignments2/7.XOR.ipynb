{
 "cells": [
  {
   "cell_type": "code",
   "execution_count": null,
   "id": "19449474",
   "metadata": {},
   "outputs": [],
   "source": [
    "### Documentation:\n",
    "#### Data Set:7.xor\n",
    "\n",
    "\n",
    "### Data Description:\n",
    "The dataset consists of three columns and 500 rows which includes two feature columns and one label column.\n",
    "Features columns are in the form of float and continuous values ranges from [-2.659172 to 2.696224] and [-3.046143 to 2.759355] and the means are at [-0.065366 and -0.025148].\n",
    "Whereas label is in the form discrete numerical int values that inclueds [0 and 1]. 50% of the data consists of 0 and rest consists of 1 as labels.\n",
    "There are zero duplicates and no null values consists in the dataset.\n",
    "Pattern that is formed by the input features is linear separatering. That means a liner line is separating 0 label and 1 label."
   ]
  },
  {
   "cell_type": "markdown",
   "id": "d0a1077b",
   "metadata": {},
   "source": [
    "### Importing Libraries: The required libraries are imported at the beginning of the code."
   ]
  },
  {
   "cell_type": "code",
   "execution_count": 1,
   "id": "4f7bcb60",
   "metadata": {},
   "outputs": [],
   "source": [
    "import pandas as pd\n",
    "import numpy as np\n",
    "import matplotlib.pyplot as plt\n",
    "import seaborn as sns "
   ]
  },
  {
   "cell_type": "markdown",
   "id": "2e37c12c",
   "metadata": {},
   "source": [
    "### Loading the Dataset:\n",
    "The code reads a CSV file using Pandas, assuming the file is located at\"C:\\\\Users\\\\dell\\\\Downloads\\\\Deep Learning data\\\\7.xor.csv\". The dataset is stored in the DataFrame df."
   ]
  },
  {
   "cell_type": "code",
   "execution_count": 2,
   "id": "eb15aa31",
   "metadata": {},
   "outputs": [
    {
     "data": {
      "text/html": [
       "<div>\n",
       "<style scoped>\n",
       "    .dataframe tbody tr th:only-of-type {\n",
       "        vertical-align: middle;\n",
       "    }\n",
       "\n",
       "    .dataframe tbody tr th {\n",
       "        vertical-align: top;\n",
       "    }\n",
       "\n",
       "    .dataframe thead th {\n",
       "        text-align: right;\n",
       "    }\n",
       "</style>\n",
       "<table border=\"1\" class=\"dataframe\">\n",
       "  <thead>\n",
       "    <tr style=\"text-align: right;\">\n",
       "      <th></th>\n",
       "      <th>0</th>\n",
       "      <th>1</th>\n",
       "      <th>2</th>\n",
       "    </tr>\n",
       "  </thead>\n",
       "  <tbody>\n",
       "    <tr>\n",
       "      <th>0</th>\n",
       "      <td>1.764052</td>\n",
       "      <td>0.400157</td>\n",
       "      <td>-1.0</td>\n",
       "    </tr>\n",
       "    <tr>\n",
       "      <th>1</th>\n",
       "      <td>0.978738</td>\n",
       "      <td>2.240893</td>\n",
       "      <td>-1.0</td>\n",
       "    </tr>\n",
       "    <tr>\n",
       "      <th>2</th>\n",
       "      <td>1.867558</td>\n",
       "      <td>-0.977278</td>\n",
       "      <td>1.0</td>\n",
       "    </tr>\n",
       "    <tr>\n",
       "      <th>3</th>\n",
       "      <td>0.950088</td>\n",
       "      <td>-0.151357</td>\n",
       "      <td>1.0</td>\n",
       "    </tr>\n",
       "    <tr>\n",
       "      <th>4</th>\n",
       "      <td>-0.103219</td>\n",
       "      <td>0.410599</td>\n",
       "      <td>1.0</td>\n",
       "    </tr>\n",
       "  </tbody>\n",
       "</table>\n",
       "</div>"
      ],
      "text/plain": [
       "          0         1    2\n",
       "0  1.764052  0.400157 -1.0\n",
       "1  0.978738  2.240893 -1.0\n",
       "2  1.867558 -0.977278  1.0\n",
       "3  0.950088 -0.151357  1.0\n",
       "4 -0.103219  0.410599  1.0"
      ]
     },
     "execution_count": 2,
     "metadata": {},
     "output_type": "execute_result"
    }
   ],
   "source": [
    "df = pd.read_csv(\"C:\\\\Users\\\\dell\\\\Downloads\\\\Deep Learning data\\\\7.xor.csv\",header = None)\n",
    "df.head()"
   ]
  },
  {
   "cell_type": "code",
   "execution_count": 3,
   "id": "ad02c7eb",
   "metadata": {},
   "outputs": [
    {
     "data": {
      "text/plain": [
       "0     -1.0\n",
       "1     -1.0\n",
       "2      1.0\n",
       "3      1.0\n",
       "4      1.0\n",
       "      ... \n",
       "495   -1.0\n",
       "496    1.0\n",
       "497   -1.0\n",
       "498    1.0\n",
       "499   -1.0\n",
       "Name: 2, Length: 500, dtype: float64"
      ]
     },
     "execution_count": 3,
     "metadata": {},
     "output_type": "execute_result"
    }
   ],
   "source": [
    "df[2]"
   ]
  },
  {
   "cell_type": "markdown",
   "id": "20b5ff5c",
   "metadata": {},
   "source": [
    "#### Have done mapping for -ve(-1.0) as 0 and for +ve (1.0) as 1"
   ]
  },
  {
   "cell_type": "code",
   "execution_count": 4,
   "id": "78c73e6f",
   "metadata": {},
   "outputs": [
    {
     "data": {
      "text/plain": [
       "0      0\n",
       "1      0\n",
       "2      1\n",
       "3      1\n",
       "4      1\n",
       "      ..\n",
       "495    0\n",
       "496    1\n",
       "497    0\n",
       "498    1\n",
       "499    0\n",
       "Name: 2, Length: 500, dtype: int64"
      ]
     },
     "execution_count": 4,
     "metadata": {},
     "output_type": "execute_result"
    }
   ],
   "source": [
    "c_l = df.iloc[:,2]\n",
    "df[2] = c_l.map({-1.0:0,1.0:1})\n",
    "df[2]"
   ]
  },
  {
   "cell_type": "markdown",
   "id": "7ae6b75f",
   "metadata": {},
   "source": [
    "#### Gives the dimensions of the dataset (number of rows, number of columns).\n"
   ]
  },
  {
   "cell_type": "code",
   "execution_count": 5,
   "id": "8e220e7a",
   "metadata": {},
   "outputs": [
    {
     "data": {
      "text/plain": [
       "(500, 3)"
      ]
     },
     "execution_count": 5,
     "metadata": {},
     "output_type": "execute_result"
    }
   ],
   "source": [
    "df.shape"
   ]
  },
  {
   "cell_type": "markdown",
   "id": "213d405e",
   "metadata": {},
   "source": [
    "#### Provides information about the dataset, including the data types of each column and the number of non-null values.\n"
   ]
  },
  {
   "cell_type": "code",
   "execution_count": 6,
   "id": "f9db5894",
   "metadata": {},
   "outputs": [
    {
     "name": "stdout",
     "output_type": "stream",
     "text": [
      "<class 'pandas.core.frame.DataFrame'>\n",
      "RangeIndex: 500 entries, 0 to 499\n",
      "Data columns (total 3 columns):\n",
      " #   Column  Non-Null Count  Dtype  \n",
      "---  ------  --------------  -----  \n",
      " 0   0       500 non-null    float64\n",
      " 1   1       500 non-null    float64\n",
      " 2   2       500 non-null    int64  \n",
      "dtypes: float64(2), int64(1)\n",
      "memory usage: 11.8 KB\n"
     ]
    }
   ],
   "source": [
    "df.info()"
   ]
  },
  {
   "cell_type": "markdown",
   "id": "fb0cc9a2",
   "metadata": {},
   "source": [
    "#### Generates descriptive statistics of the dataset, such as count, mean, standard deviation, minimum, and maximum values for each numerical column. "
   ]
  },
  {
   "cell_type": "code",
   "execution_count": 7,
   "id": "8d2aabf4",
   "metadata": {},
   "outputs": [
    {
     "data": {
      "text/html": [
       "<div>\n",
       "<style scoped>\n",
       "    .dataframe tbody tr th:only-of-type {\n",
       "        vertical-align: middle;\n",
       "    }\n",
       "\n",
       "    .dataframe tbody tr th {\n",
       "        vertical-align: top;\n",
       "    }\n",
       "\n",
       "    .dataframe thead th {\n",
       "        text-align: right;\n",
       "    }\n",
       "</style>\n",
       "<table border=\"1\" class=\"dataframe\">\n",
       "  <thead>\n",
       "    <tr style=\"text-align: right;\">\n",
       "      <th></th>\n",
       "      <th>0</th>\n",
       "      <th>1</th>\n",
       "      <th>2</th>\n",
       "    </tr>\n",
       "  </thead>\n",
       "  <tbody>\n",
       "    <tr>\n",
       "      <th>count</th>\n",
       "      <td>500.000000</td>\n",
       "      <td>500.000000</td>\n",
       "      <td>500.0000</td>\n",
       "    </tr>\n",
       "    <tr>\n",
       "      <th>mean</th>\n",
       "      <td>-0.065366</td>\n",
       "      <td>-0.025148</td>\n",
       "      <td>0.4800</td>\n",
       "    </tr>\n",
       "    <tr>\n",
       "      <th>std</th>\n",
       "      <td>0.974521</td>\n",
       "      <td>1.000935</td>\n",
       "      <td>0.5001</td>\n",
       "    </tr>\n",
       "    <tr>\n",
       "      <th>min</th>\n",
       "      <td>-2.659172</td>\n",
       "      <td>-3.046143</td>\n",
       "      <td>0.0000</td>\n",
       "    </tr>\n",
       "    <tr>\n",
       "      <th>25%</th>\n",
       "      <td>-0.726459</td>\n",
       "      <td>-0.680994</td>\n",
       "      <td>0.0000</td>\n",
       "    </tr>\n",
       "    <tr>\n",
       "      <th>50%</th>\n",
       "      <td>-0.094417</td>\n",
       "      <td>-0.034669</td>\n",
       "      <td>0.0000</td>\n",
       "    </tr>\n",
       "    <tr>\n",
       "      <th>75%</th>\n",
       "      <td>0.593690</td>\n",
       "      <td>0.609228</td>\n",
       "      <td>1.0000</td>\n",
       "    </tr>\n",
       "    <tr>\n",
       "      <th>max</th>\n",
       "      <td>2.696224</td>\n",
       "      <td>2.759355</td>\n",
       "      <td>1.0000</td>\n",
       "    </tr>\n",
       "  </tbody>\n",
       "</table>\n",
       "</div>"
      ],
      "text/plain": [
       "                0           1         2\n",
       "count  500.000000  500.000000  500.0000\n",
       "mean    -0.065366   -0.025148    0.4800\n",
       "std      0.974521    1.000935    0.5001\n",
       "min     -2.659172   -3.046143    0.0000\n",
       "25%     -0.726459   -0.680994    0.0000\n",
       "50%     -0.094417   -0.034669    0.0000\n",
       "75%      0.593690    0.609228    1.0000\n",
       "max      2.696224    2.759355    1.0000"
      ]
     },
     "execution_count": 7,
     "metadata": {},
     "output_type": "execute_result"
    }
   ],
   "source": [
    "df.describe()"
   ]
  },
  {
   "cell_type": "code",
   "execution_count": 8,
   "id": "e9236087",
   "metadata": {},
   "outputs": [
    {
     "data": {
      "text/plain": [
       "0"
      ]
     },
     "execution_count": 8,
     "metadata": {},
     "output_type": "execute_result"
    }
   ],
   "source": [
    "df.duplicated().sum()"
   ]
  },
  {
   "cell_type": "code",
   "execution_count": 9,
   "id": "56071eb5",
   "metadata": {},
   "outputs": [
    {
     "data": {
      "text/plain": [
       "0    0\n",
       "1    0\n",
       "2    0\n",
       "dtype: int64"
      ]
     },
     "execution_count": 9,
     "metadata": {},
     "output_type": "execute_result"
    }
   ],
   "source": [
    "df.isna().sum()"
   ]
  },
  {
   "cell_type": "code",
   "execution_count": 10,
   "id": "86a771e9",
   "metadata": {},
   "outputs": [
    {
     "data": {
      "text/plain": [
       "0    260\n",
       "1    240\n",
       "Name: 2, dtype: int64"
      ]
     },
     "execution_count": 10,
     "metadata": {},
     "output_type": "execute_result"
    }
   ],
   "source": [
    "df[2].value_counts()"
   ]
  },
  {
   "cell_type": "markdown",
   "id": "34b181fc",
   "metadata": {},
   "source": [
    "### Data Visualization:\n",
    "A scatter plot is created using Seaborn to visualize the data points, where the x-axis represents df[0], the y-axis represents df[1], and the color of the points is determined by df[2]"
   ]
  },
  {
   "cell_type": "code",
   "execution_count": 11,
   "id": "0d915250",
   "metadata": {},
   "outputs": [
    {
     "name": "stderr",
     "output_type": "stream",
     "text": [
      "C:\\Users\\dell\\anaconda3\\lib\\site-packages\\seaborn\\_decorators.py:36: FutureWarning: Pass the following variables as keyword args: x, y. From version 0.12, the only valid positional argument will be `data`, and passing other arguments without an explicit keyword will result in an error or misinterpretation.\n",
      "  warnings.warn(\n"
     ]
    },
    {
     "data": {
      "text/plain": [
       "<AxesSubplot:xlabel='0', ylabel='1'>"
      ]
     },
     "execution_count": 11,
     "metadata": {},
     "output_type": "execute_result"
    },
    {
     "data": {
      "image/png": "[encoded data removed]",
      "text/plain": [
       "<Figure size 432x288 with 1 Axes>"
      ]
     },
     "metadata": {
      "needs_background": "light"
     },
     "output_type": "display_data"
    }
   ],
   "source": [
    "sns.scatterplot(df[0],df[1],hue = df[2])"
   ]
  },
  {
   "cell_type": "markdown",
   "id": "ed1cbb98",
   "metadata": {},
   "source": [
    "### Train-Test Split:\n",
    "The dataset is split into training and testing sets using the train_test_split function from scikit-learn. The features (x_train, x_test) consist of columns 0 and 1 from the DataFrame, while the target variables (y_train, y_test) correspond to column 2. The testing set size is set to 20% of the total dataset."
   ]
  },
  {
   "cell_type": "code",
   "execution_count": 12,
   "id": "9a7bab35",
   "metadata": {},
   "outputs": [],
   "source": [
    "from sklearn.model_selection import train_test_split\n",
    "X_train,X_test,y_train,y_test=train_test_split(df[[0,1]],df[2],test_size=0.1)"
   ]
  },
  {
   "cell_type": "markdown",
   "id": "9114071c",
   "metadata": {},
   "source": [
    "### Data Preprocessing:\n",
    "The features are standardized using scikit-learn's StandardScaler. The fit_transform method is applied to the training set (x_train), and the transform method is applied to the testing set (x_test)."
   ]
  },
  {
   "cell_type": "code",
   "execution_count": 13,
   "id": "5abc4c4d",
   "metadata": {},
   "outputs": [],
   "source": [
    "from sklearn.preprocessing import StandardScaler\n",
    "std=StandardScaler()\n",
    "X_trainf=std.fit_transform(X_train)\n",
    "X_testf=std.transform(X_test)"
   ]
  },
  {
   "cell_type": "markdown",
   "id": "7f8b344a",
   "metadata": {},
   "source": [
    "### Importing necessary libraries:\n",
    "- TensorFlow and Keras are libraries.\n",
    "- Sequential is a linear stack of neural network layers.\n",
    "- Dense represents a fully connected layer."
   ]
  },
  {
   "cell_type": "code",
   "execution_count": 14,
   "id": "76e3d51f",
   "metadata": {},
   "outputs": [],
   "source": [
    "import tensorflow\n",
    "from tensorflow import keras\n",
    "from keras.models import Sequential\n",
    "from keras.layers import Dense"
   ]
  },
  {
   "cell_type": "markdown",
   "id": "b5aad2bd",
   "metadata": {},
   "source": [
    "### Model Architecture:\n",
    "\n",
    "- The model is defined as a sequential model, which means that the layers are stacked sequentially.\n",
    "- The first layer is a dense layer with 5 units, ReLU activation function, and 'he_uniform' kernel initializer. It takes an input of dimension 2.\n",
    "- The second layer is also a dense layer with 4 units, ReLU activation function, and 'he_uniform' kernel initializer.\n",
    "- The third layer is a dense layer with 3 units, ReLU activation function, and 'he_uniform' kernel initializer.\n",
    "- The final layer is a dense layer with 1 unit, sigmoid activation function. This layer outputs a single value between 0 and 1, representing the probability of the input belonging to a certain class."
   ]
  },
  {
   "cell_type": "code",
   "execution_count": 38,
   "id": "d5bdd7bb",
   "metadata": {},
   "outputs": [],
   "source": [
    "model=Sequential()\n",
    "model.add(Dense(5,activation=\"relu\",kernel_initializer='he_uniform',input_dim=2))\n",
    "\n",
    "model.add(Dense(4,activation=\"relu\",kernel_initializer='he_uniform'))\n",
    "\n",
    "model.add(Dense(3,activation=\"relu\",kernel_initializer='he_uniform'))\n",
    "\n",
    "model.add(Dense(1,activation=\"sigmoid\"))"
   ]
  },
  {
   "cell_type": "markdown",
   "id": "bbff553d",
   "metadata": {},
   "source": [
    "### Model Weights:\n",
    "\n",
    "The model.get_weights() function returns the current weights of the model. \n"
   ]
  },
  {
   "cell_type": "code",
   "execution_count": 39,
   "id": "4e9fefbb",
   "metadata": {},
   "outputs": [
    {
     "data": {
      "text/plain": [
       "[array([[-0.91601664, -1.5174742 ,  0.41443765, -0.16858518,  1.5442587 ],\n",
       "        [-0.8586748 , -0.55013776,  0.5784627 , -1.4799776 , -1.6226438 ]],\n",
       "       dtype=float32),\n",
       " array([0., 0., 0., 0., 0.], dtype=float32),\n",
       " array([[-0.5916482 , -0.32228202,  0.29552305,  0.2879305 ],\n",
       "        [ 0.209499  ,  0.41311145, -0.6258169 , -0.69653225],\n",
       "        [-0.14137608, -0.11617535, -0.5064651 , -0.7042212 ],\n",
       "        [ 0.5266447 ,  0.3568213 ,  0.7420267 ,  0.9694557 ],\n",
       "        [-0.8403244 , -0.5515718 ,  0.37307262, -0.47880936]],\n",
       "       dtype=float32),\n",
       " array([0., 0., 0., 0.], dtype=float32),\n",
       " array([[-1.0278772 ,  1.1012751 , -0.29198265],\n",
       "        [-0.62004715, -1.0570788 ,  1.100773  ],\n",
       "        [ 0.30512977,  0.8013121 , -0.5850382 ],\n",
       "        [ 0.33081567,  0.6068449 ,  0.8865961 ]], dtype=float32),\n",
       " array([0., 0., 0.], dtype=float32),\n",
       " array([[ 0.08569992],\n",
       "        [-1.2076745 ],\n",
       "        [ 0.23447001]], dtype=float32),\n",
       " array([0.], dtype=float32)]"
      ]
     },
     "execution_count": 39,
     "metadata": {},
     "output_type": "execute_result"
    }
   ],
   "source": [
    "model.get_weights()"
   ]
  },
  {
   "cell_type": "markdown",
   "id": "3905f41f",
   "metadata": {},
   "source": [
    "### Model Summary:\n",
    "\n",
    "The model.summary() function prints a summary of the model architecture, including the layer types, output shape, and the number of parameters in each layer."
   ]
  },
  {
   "cell_type": "code",
   "execution_count": 40,
   "id": "59704c32",
   "metadata": {},
   "outputs": [
    {
     "name": "stdout",
     "output_type": "stream",
     "text": [
      "Model: \"sequential_3\"\n",
      "_________________________________________________________________\n",
      " Layer (type)                Output Shape              Param #   \n",
      "=================================================================\n",
      " dense_9 (Dense)             (None, 5)                 15        \n",
      "                                                                 \n",
      " dense_10 (Dense)            (None, 4)                 24        \n",
      "                                                                 \n",
      " dense_11 (Dense)            (None, 3)                 15        \n",
      "                                                                 \n",
      " dense_12 (Dense)            (None, 1)                 4         \n",
      "                                                                 \n",
      "=================================================================\n",
      "Total params: 58\n",
      "Trainable params: 58\n",
      "Non-trainable params: 0\n",
      "_________________________________________________________________\n"
     ]
    }
   ],
   "source": [
    "model.summary()"
   ]
  },
  {
   "cell_type": "markdown",
   "id": "17f4a1e6",
   "metadata": {},
   "source": [
    "### Compilation:\n",
    "\n",
    "- The model.compile() function configures the model for training.\n",
    "- It uses the Adam optimizer, which is a popular optimization algorithm for deep learning models.\n",
    "- The loss function is set to \"binary_crossentropy\", which is commonly used for binary classification problems.\n",
    "- The model will also compute the \"accuracy\" metric during training."
   ]
  },
  {
   "cell_type": "code",
   "execution_count": 41,
   "id": "bfe1e69e",
   "metadata": {},
   "outputs": [],
   "source": [
    "model.compile(optimizer=\"Adam\",loss=\"binary_crossentropy\",metrics=[\"accuracy\"])"
   ]
  },
  {
   "cell_type": "markdown",
   "id": "a7796cb5",
   "metadata": {},
   "source": [
    "### Training:\n",
    "\n",
    "- The model.fit() function is used to train the model.\n",
    "- It takes the training data X_trainf and y_train as inputs.\n",
    "- The batch size is set to 10, which means the model will be updated after processing 10 samples at a time.\n",
    "- The number of epochs is set to 50, indicating the number of times the model will iterate over the entire training dataset.\n",
    "- A validation split of 0.2 means that 20% of the training data will be used as a validation set to monitor the model's performance during training.\n",
    "- The training history is stored in the history variable, which can be used to analyze the training progress and visualize metrics like loss and accuracy."
   ]
  },
  {
   "cell_type": "code",
   "execution_count": 42,
   "id": "0de0db87",
   "metadata": {},
   "outputs": [
    {
     "name": "stdout",
     "output_type": "stream",
     "text": [
      "Epoch 1/50\n",
      "36/36 [==============================] - 1s 6ms/step - loss: 0.9127 - accuracy: 0.4972 - val_loss: 0.7717 - val_accuracy: 0.4000\n",
      "Epoch 2/50\n",
      "36/36 [==============================] - 0s 2ms/step - loss: 0.8462 - accuracy: 0.4833 - val_loss: 0.7344 - val_accuracy: 0.4444\n",
      "Epoch 3/50\n",
      "36/36 [==============================] - 0s 2ms/step - loss: 0.7887 - accuracy: 0.5056 - val_loss: 0.6922 - val_accuracy: 0.5000\n",
      "Epoch 4/50\n",
      "36/36 [==============================] - 0s 2ms/step - loss: 0.7305 - accuracy: 0.5556 - val_loss: 0.6594 - val_accuracy: 0.5444\n",
      "Epoch 5/50\n",
      "36/36 [==============================] - 0s 2ms/step - loss: 0.6876 - accuracy: 0.6028 - val_loss: 0.6376 - val_accuracy: 0.5889\n",
      "Epoch 6/50\n",
      "36/36 [==============================] - 0s 2ms/step - loss: 0.6551 - accuracy: 0.6167 - val_loss: 0.6180 - val_accuracy: 0.6111\n",
      "Epoch 7/50\n",
      "36/36 [==============================] - 0s 2ms/step - loss: 0.6276 - accuracy: 0.6250 - val_loss: 0.6029 - val_accuracy: 0.6222\n",
      "Epoch 8/50\n",
      "36/36 [==============================] - 0s 2ms/step - loss: 0.6083 - accuracy: 0.6444 - val_loss: 0.5932 - val_accuracy: 0.6222\n",
      "Epoch 9/50\n",
      "36/36 [==============================] - 0s 2ms/step - loss: 0.5936 - accuracy: 0.6528 - val_loss: 0.5859 - val_accuracy: 0.6333\n",
      "Epoch 10/50\n",
      "36/36 [==============================] - 0s 2ms/step - loss: 0.5822 - accuracy: 0.6667 - val_loss: 0.5809 - val_accuracy: 0.6333\n",
      "Epoch 11/50\n",
      "36/36 [==============================] - 0s 2ms/step - loss: 0.5719 - accuracy: 0.6750 - val_loss: 0.5752 - val_accuracy: 0.6333\n",
      "Epoch 12/50\n",
      "36/36 [==============================] - 0s 2ms/step - loss: 0.5645 - accuracy: 0.6833 - val_loss: 0.5709 - val_accuracy: 0.6333\n",
      "Epoch 13/50\n",
      "36/36 [==============================] - 0s 2ms/step - loss: 0.5571 - accuracy: 0.7028 - val_loss: 0.5668 - val_accuracy: 0.6667\n",
      "Epoch 14/50\n",
      "36/36 [==============================] - 0s 2ms/step - loss: 0.5501 - accuracy: 0.7028 - val_loss: 0.5623 - val_accuracy: 0.6667\n",
      "Epoch 15/50\n",
      "36/36 [==============================] - 0s 2ms/step - loss: 0.5432 - accuracy: 0.7083 - val_loss: 0.5584 - val_accuracy: 0.6778\n",
      "Epoch 16/50\n",
      "36/36 [==============================] - 0s 2ms/step - loss: 0.5374 - accuracy: 0.7167 - val_loss: 0.5557 - val_accuracy: 0.6778\n",
      "Epoch 17/50\n",
      "36/36 [==============================] - 0s 2ms/step - loss: 0.5322 - accuracy: 0.7167 - val_loss: 0.5521 - val_accuracy: 0.6889\n",
      "Epoch 18/50\n",
      "36/36 [==============================] - 0s 2ms/step - loss: 0.5269 - accuracy: 0.7306 - val_loss: 0.5480 - val_accuracy: 0.6889\n",
      "Epoch 19/50\n",
      "36/36 [==============================] - 0s 2ms/step - loss: 0.5225 - accuracy: 0.7250 - val_loss: 0.5444 - val_accuracy: 0.6889\n",
      "Epoch 20/50\n",
      "36/36 [==============================] - 0s 2ms/step - loss: 0.5181 - accuracy: 0.7306 - val_loss: 0.5433 - val_accuracy: 0.6889\n",
      "Epoch 21/50\n",
      "36/36 [==============================] - 0s 2ms/step - loss: 0.5119 - accuracy: 0.7306 - val_loss: 0.5388 - val_accuracy: 0.6889\n",
      "Epoch 22/50\n",
      "36/36 [==============================] - 0s 2ms/step - loss: 0.5071 - accuracy: 0.7361 - val_loss: 0.5364 - val_accuracy: 0.6889\n",
      "Epoch 23/50\n",
      "36/36 [==============================] - 0s 2ms/step - loss: 0.5021 - accuracy: 0.7472 - val_loss: 0.5324 - val_accuracy: 0.6889\n",
      "Epoch 24/50\n",
      "36/36 [==============================] - 0s 2ms/step - loss: 0.4974 - accuracy: 0.7500 - val_loss: 0.5297 - val_accuracy: 0.7000\n",
      "Epoch 25/50\n",
      "36/36 [==============================] - 0s 3ms/step - loss: 0.4923 - accuracy: 0.7500 - val_loss: 0.5260 - val_accuracy: 0.6889\n",
      "Epoch 26/50\n",
      "36/36 [==============================] - 0s 2ms/step - loss: 0.4866 - accuracy: 0.7500 - val_loss: 0.5220 - val_accuracy: 0.7000\n",
      "Epoch 27/50\n",
      "36/36 [==============================] - 0s 2ms/step - loss: 0.4810 - accuracy: 0.7528 - val_loss: 0.5185 - val_accuracy: 0.7000\n",
      "Epoch 28/50\n",
      "36/36 [==============================] - 0s 2ms/step - loss: 0.4756 - accuracy: 0.7556 - val_loss: 0.5153 - val_accuracy: 0.7111\n",
      "Epoch 29/50\n",
      "36/36 [==============================] - 0s 2ms/step - loss: 0.4691 - accuracy: 0.7583 - val_loss: 0.5095 - val_accuracy: 0.7000\n",
      "Epoch 30/50\n",
      "36/36 [==============================] - 0s 2ms/step - loss: 0.4633 - accuracy: 0.7556 - val_loss: 0.5060 - val_accuracy: 0.7111\n",
      "Epoch 31/50\n",
      "36/36 [==============================] - 0s 2ms/step - loss: 0.4562 - accuracy: 0.7583 - val_loss: 0.5001 - val_accuracy: 0.7111\n",
      "Epoch 32/50\n",
      "36/36 [==============================] - 0s 2ms/step - loss: 0.4486 - accuracy: 0.7583 - val_loss: 0.4949 - val_accuracy: 0.7111\n",
      "Epoch 33/50\n",
      "36/36 [==============================] - 0s 2ms/step - loss: 0.4411 - accuracy: 0.7583 - val_loss: 0.4889 - val_accuracy: 0.7111\n",
      "Epoch 34/50\n",
      "36/36 [==============================] - 0s 2ms/step - loss: 0.4335 - accuracy: 0.7583 - val_loss: 0.4818 - val_accuracy: 0.7111\n",
      "Epoch 35/50\n",
      "36/36 [==============================] - 0s 2ms/step - loss: 0.4247 - accuracy: 0.7611 - val_loss: 0.4753 - val_accuracy: 0.7111\n",
      "Epoch 36/50\n",
      "36/36 [==============================] - 0s 2ms/step - loss: 0.4155 - accuracy: 0.7611 - val_loss: 0.4679 - val_accuracy: 0.7000\n",
      "Epoch 37/50\n",
      "36/36 [==============================] - 0s 2ms/step - loss: 0.4069 - accuracy: 0.7611 - val_loss: 0.4566 - val_accuracy: 0.7111\n",
      "Epoch 38/50\n",
      "36/36 [==============================] - 0s 2ms/step - loss: 0.3959 - accuracy: 0.7639 - val_loss: 0.4453 - val_accuracy: 0.7111\n",
      "Epoch 39/50\n",
      "36/36 [==============================] - 0s 2ms/step - loss: 0.3843 - accuracy: 0.7639 - val_loss: 0.4343 - val_accuracy: 0.7000\n",
      "Epoch 40/50\n",
      "36/36 [==============================] - 0s 2ms/step - loss: 0.3739 - accuracy: 0.7694 - val_loss: 0.4226 - val_accuracy: 0.7000\n",
      "Epoch 41/50\n",
      "36/36 [==============================] - 0s 2ms/step - loss: 0.3641 - accuracy: 0.7667 - val_loss: 0.4123 - val_accuracy: 0.7000\n",
      "Epoch 42/50\n",
      "36/36 [==============================] - 0s 2ms/step - loss: 0.3551 - accuracy: 0.7694 - val_loss: 0.4032 - val_accuracy: 0.7000\n",
      "Epoch 43/50\n",
      "36/36 [==============================] - 0s 2ms/step - loss: 0.3463 - accuracy: 0.7667 - val_loss: 0.3910 - val_accuracy: 0.7000\n",
      "Epoch 44/50\n",
      "36/36 [==============================] - 0s 2ms/step - loss: 0.3379 - accuracy: 0.7667 - val_loss: 0.3827 - val_accuracy: 0.7000\n",
      "Epoch 45/50\n",
      "36/36 [==============================] - 0s 2ms/step - loss: 0.3284 - accuracy: 0.7667 - val_loss: 0.3711 - val_accuracy: 0.7000\n",
      "Epoch 46/50\n",
      "36/36 [==============================] - 0s 2ms/step - loss: 0.3210 - accuracy: 0.7667 - val_loss: 0.3600 - val_accuracy: 0.7000\n",
      "Epoch 47/50\n",
      "36/36 [==============================] - 0s 2ms/step - loss: 0.3130 - accuracy: 0.7694 - val_loss: 0.3512 - val_accuracy: 0.7000\n",
      "Epoch 48/50\n",
      "36/36 [==============================] - 0s 2ms/step - loss: 0.3047 - accuracy: 0.7667 - val_loss: 0.3416 - val_accuracy: 0.7000\n",
      "Epoch 49/50\n",
      "36/36 [==============================] - 0s 2ms/step - loss: 0.2970 - accuracy: 0.7667 - val_loss: 0.3315 - val_accuracy: 0.7000\n",
      "Epoch 50/50\n",
      "36/36 [==============================] - 0s 2ms/step - loss: 0.2899 - accuracy: 0.7667 - val_loss: 0.3211 - val_accuracy: 0.7000\n"
     ]
    }
   ],
   "source": [
    "history=model.fit(X_trainf,y_train,batch_size=10,epochs=50,validation_split=0.2)"
   ]
  },
  {
   "cell_type": "markdown",
   "id": "13c37510",
   "metadata": {},
   "source": [
    "### Plotting the decision regions for the training data:\n",
    "- The plot_decision_regions function from the mlxtend library to visualize the decision regions of the model on the training data. \n",
    "- The data points are plotted, and the decision regions are highlighted.\n",
    "- The title, x-label, and y-label are set accordingly."
   ]
  },
  {
   "cell_type": "code",
   "execution_count": 66,
   "id": "b353d056",
   "metadata": {},
   "outputs": [],
   "source": [
    "from mlxtend.plotting import plot_decision_regions as pt"
   ]
  },
  {
   "cell_type": "code",
   "execution_count": 67,
   "id": "00764413",
   "metadata": {},
   "outputs": [
    {
     "data": {
      "image/png": "[encoded data removed]",
      "text/plain": [
       "<Figure size 432x288 with 1 Axes>"
      ]
     },
     "metadata": {
      "needs_background": "light"
     },
     "output_type": "display_data"
    }
   ],
   "source": [
    "pt(X_trainf,y_train.values.astype(int),clf=model)\n",
    "plt.title(\"X_train Decision regions\")\n",
    "plt.xlabel(\"X_train\",color='black')\n",
    "plt.ylabel(\"y_train\",color='black')\n",
    "plt.show()"
   ]
  },
  {
   "cell_type": "markdown",
   "id": "fcc51b43",
   "metadata": {},
   "source": [
    "### Making predictions on the test data and calculating accuracy:\n",
    "- The model is used to predict the outputs (y_pred) for the test data (X_tests).\n",
    "- The predicted values are then thresholded at 0.5 to obtain binary predictions (y_predf)."
   ]
  },
  {
   "cell_type": "code",
   "execution_count": 43,
   "id": "35bc1120",
   "metadata": {},
   "outputs": [],
   "source": [
    "y_cap=model.predict(X_testf)"
   ]
  },
  {
   "cell_type": "code",
   "execution_count": 63,
   "id": "ee5cdf8c",
   "metadata": {},
   "outputs": [],
   "source": [
    "y_capf = np.array([1 if x>0.5 else 0 for x in y_cap])"
   ]
  },
  {
   "cell_type": "markdown",
   "id": "a8481b47",
   "metadata": {},
   "source": [
    "#### Computing the accuracy of the predictions is calculated using the accuracy_score function from scikit-learn by comparing the predicted values (y_predf) with the true values (y_test)."
   ]
  },
  {
   "cell_type": "code",
   "execution_count": 64,
   "id": "31daf194",
   "metadata": {},
   "outputs": [
    {
     "data": {
      "text/plain": [
       "0.78"
      ]
     },
     "execution_count": 64,
     "metadata": {},
     "output_type": "execute_result"
    }
   ],
   "source": [
    "from sklearn.metrics import accuracy_score\n",
    "accuracy_score(y_test,y_capf)"
   ]
  },
  {
   "cell_type": "code",
   "execution_count": 65,
   "id": "f6e3e5d8",
   "metadata": {},
   "outputs": [
    {
     "data": {
      "text/plain": [
       "[<matplotlib.lines.Line2D at 0x1ce80729f40>]"
      ]
     },
     "execution_count": 65,
     "metadata": {},
     "output_type": "execute_result"
    },
    {
     "data": {
      "image/png": "[encoded data removed]",
      "text/plain": [
       "<Figure size 432x288 with 1 Axes>"
      ]
     },
     "metadata": {
      "needs_background": "light"
     },
     "output_type": "display_data"
    }
   ],
   "source": [
    "plt.plot(history.history['loss'])\n",
    "plt.plot(history.history['val_loss'])"
   ]
  },
  {
   "cell_type": "markdown",
   "id": "be4b92f2",
   "metadata": {},
   "source": [
    "### Plotting the decision regions for the test data:\n",
    "- The decision regions of the model on the test data (X_tests). \n",
    "- The data points are plotted, and the decision regions are shown. \n",
    "- The title, x-label, and y-label are set accordingly."
   ]
  },
  {
   "cell_type": "code",
   "execution_count": 72,
   "id": "166418fd",
   "metadata": {},
   "outputs": [
    {
     "data": {
      "image/png": "[encoded data removed]",
      "text/plain": [
       "<Figure size 432x288 with 1 Axes>"
      ]
     },
     "metadata": {
      "needs_background": "light"
     },
     "output_type": "display_data"
    }
   ],
   "source": [
    "plot_decision_regions(X_testf,y_capf,clf=model)\n",
    "plt.title(\"X_test Decision regions\")\n",
    "plt.xlabel(\"X_test\")\n",
    "plt.ylabel(\"y_test\")\n",
    "plt.show()"
   ]
  },
  {
   "cell_type": "code",
   "execution_count": null,
   "id": "ceff2725",
   "metadata": {},
   "outputs": [],
   "source": []
  }
 ],
 "metadata": {
  "kernelspec": {
   "display_name": "Python 3 (ipykernel)",
   "language": "python",
   "name": "python3"
  },
  "language_info": {
   "codemirror_mode": {
    "name": "ipython",
    "version": 3
   },
   "file_extension": ".py",
   "mimetype": "text/x-python",
   "name": "python",
   "nbconvert_exporter": "python",
   "pygments_lexer": "ipython3",
   "version": "3.9.12"
  }
 },
 "nbformat": 4,
 "nbformat_minor": 5
}
