{
 "cells": [
  {
   "cell_type": "markdown",
   "id": "b697af6e",
   "metadata": {},
   "source": [
    "Data Description:\n",
    "\n",
    "The dataset consists of three columns and 100 rows which includes two feature columns and one label column.\n",
    "Features columns are in the form of float and continuous values ranges from [-1.801737 to 3.108743] and [0.568025 to 3.892678] and the means are at [0.930868 and 1.855540].\n",
    "Whereas label is in the form discreate numerical float values that inclueds [0.0 and 1.o]. 50% of the data consists of 0 and rest consists of 1 as labels.\n",
    "There are zero duplicates and no null values consists in the dataset.\n",
    "Pattern that is formed by the input features is linear separatering. That means a liner line is separating 0 label and 1 label."
   ]
  },
  {
   "cell_type": "code",
   "execution_count": 1,
   "id": "b7a9b824",
   "metadata": {},
   "outputs": [],
   "source": [
    "import pandas as pd\n",
    "import numpy as np\n",
    "import matplotlib.pyplot as plt\n",
    "import seaborn as sns"
   ]
  },
  {
   "cell_type": "code",
   "execution_count": 2,
   "id": "5d9a36ce",
   "metadata": {},
   "outputs": [],
   "source": [
    "data=pd.read_csv(r'C:\\Users\\chauh\\Downloads\\4.linearsep.csv',header=None)"
   ]
  },
  {
   "cell_type": "code",
   "execution_count": 3,
   "id": "bef12be8",
   "metadata": {},
   "outputs": [
    {
     "data": {
      "text/html": [
       "<div>\n",
       "<style scoped>\n",
       "    .dataframe tbody tr th:only-of-type {\n",
       "        vertical-align: middle;\n",
       "    }\n",
       "\n",
       "    .dataframe tbody tr th {\n",
       "        vertical-align: top;\n",
       "    }\n",
       "\n",
       "    .dataframe thead th {\n",
       "        text-align: right;\n",
       "    }\n",
       "</style>\n",
       "<table border=\"1\" class=\"dataframe\">\n",
       "  <thead>\n",
       "    <tr style=\"text-align: right;\">\n",
       "      <th></th>\n",
       "      <th>0</th>\n",
       "      <th>1</th>\n",
       "      <th>2</th>\n",
       "    </tr>\n",
       "  </thead>\n",
       "  <tbody>\n",
       "    <tr>\n",
       "      <th>0</th>\n",
       "      <td>-0.177497</td>\n",
       "      <td>0.930496</td>\n",
       "      <td>1.0</td>\n",
       "    </tr>\n",
       "    <tr>\n",
       "      <th>1</th>\n",
       "      <td>1.977424</td>\n",
       "      <td>1.766155</td>\n",
       "      <td>0.0</td>\n",
       "    </tr>\n",
       "    <tr>\n",
       "      <th>2</th>\n",
       "      <td>1.800024</td>\n",
       "      <td>1.700343</td>\n",
       "      <td>0.0</td>\n",
       "    </tr>\n",
       "    <tr>\n",
       "      <th>3</th>\n",
       "      <td>-0.770837</td>\n",
       "      <td>2.359163</td>\n",
       "      <td>1.0</td>\n",
       "    </tr>\n",
       "    <tr>\n",
       "      <th>4</th>\n",
       "      <td>-0.308009</td>\n",
       "      <td>1.594063</td>\n",
       "      <td>1.0</td>\n",
       "    </tr>\n",
       "  </tbody>\n",
       "</table>\n",
       "</div>"
      ],
      "text/plain": [
       "          0         1    2\n",
       "0 -0.177497  0.930496  1.0\n",
       "1  1.977424  1.766155  0.0\n",
       "2  1.800024  1.700343  0.0\n",
       "3 -0.770837  2.359163  1.0\n",
       "4 -0.308009  1.594063  1.0"
      ]
     },
     "execution_count": 3,
     "metadata": {},
     "output_type": "execute_result"
    }
   ],
   "source": [
    "data.head()"
   ]
  },
  {
   "cell_type": "code",
   "execution_count": 4,
   "id": "1807cc0f",
   "metadata": {},
   "outputs": [
    {
     "name": "stdout",
     "output_type": "stream",
     "text": [
      "<class 'pandas.core.frame.DataFrame'>\n",
      "RangeIndex: 100 entries, 0 to 99\n",
      "Data columns (total 3 columns):\n",
      " #   Column  Non-Null Count  Dtype  \n",
      "---  ------  --------------  -----  \n",
      " 0   0       100 non-null    float64\n",
      " 1   1       100 non-null    float64\n",
      " 2   2       100 non-null    float64\n",
      "dtypes: float64(3)\n",
      "memory usage: 2.5 KB\n"
     ]
    }
   ],
   "source": [
    "data.info()"
   ]
  },
  {
   "cell_type": "code",
   "execution_count": 5,
   "id": "0a5accf4",
   "metadata": {},
   "outputs": [
    {
     "data": {
      "text/plain": [
       "0"
      ]
     },
     "execution_count": 5,
     "metadata": {},
     "output_type": "execute_result"
    }
   ],
   "source": [
    "data.duplicated().sum()"
   ]
  },
  {
   "cell_type": "code",
   "execution_count": 6,
   "id": "7c26ff41",
   "metadata": {},
   "outputs": [
    {
     "data": {
      "text/plain": [
       "0    0\n",
       "1    0\n",
       "2    0\n",
       "dtype: int64"
      ]
     },
     "execution_count": 6,
     "metadata": {},
     "output_type": "execute_result"
    }
   ],
   "source": [
    "data.isna().sum()"
   ]
  },
  {
   "cell_type": "code",
   "execution_count": 7,
   "id": "229c8105",
   "metadata": {},
   "outputs": [
    {
     "data": {
      "text/plain": [
       "1.0    50\n",
       "0.0    50\n",
       "Name: 2, dtype: int64"
      ]
     },
     "execution_count": 7,
     "metadata": {},
     "output_type": "execute_result"
    }
   ],
   "source": [
    "data[2].value_counts()"
   ]
  },
  {
   "cell_type": "code",
   "execution_count": 8,
   "id": "2c575a65",
   "metadata": {},
   "outputs": [
    {
     "data": {
      "text/html": [
       "<div>\n",
       "<style scoped>\n",
       "    .dataframe tbody tr th:only-of-type {\n",
       "        vertical-align: middle;\n",
       "    }\n",
       "\n",
       "    .dataframe tbody tr th {\n",
       "        vertical-align: top;\n",
       "    }\n",
       "\n",
       "    .dataframe thead th {\n",
       "        text-align: right;\n",
       "    }\n",
       "</style>\n",
       "<table border=\"1\" class=\"dataframe\">\n",
       "  <thead>\n",
       "    <tr style=\"text-align: right;\">\n",
       "      <th></th>\n",
       "      <th>0</th>\n",
       "      <th>1</th>\n",
       "      <th>2</th>\n",
       "    </tr>\n",
       "  </thead>\n",
       "  <tbody>\n",
       "    <tr>\n",
       "      <th>count</th>\n",
       "      <td>100.000000</td>\n",
       "      <td>100.000000</td>\n",
       "      <td>100.000000</td>\n",
       "    </tr>\n",
       "    <tr>\n",
       "      <th>mean</th>\n",
       "      <td>0.930868</td>\n",
       "      <td>1.855540</td>\n",
       "      <td>0.500000</td>\n",
       "    </tr>\n",
       "    <tr>\n",
       "      <th>std</th>\n",
       "      <td>1.248367</td>\n",
       "      <td>0.713457</td>\n",
       "      <td>0.502519</td>\n",
       "    </tr>\n",
       "    <tr>\n",
       "      <th>min</th>\n",
       "      <td>-1.801737</td>\n",
       "      <td>0.568025</td>\n",
       "      <td>0.000000</td>\n",
       "    </tr>\n",
       "    <tr>\n",
       "      <th>25%</th>\n",
       "      <td>-0.143369</td>\n",
       "      <td>1.296152</td>\n",
       "      <td>0.000000</td>\n",
       "    </tr>\n",
       "    <tr>\n",
       "      <th>50%</th>\n",
       "      <td>1.171946</td>\n",
       "      <td>1.806731</td>\n",
       "      <td>0.500000</td>\n",
       "    </tr>\n",
       "    <tr>\n",
       "      <th>75%</th>\n",
       "      <td>1.881075</td>\n",
       "      <td>2.249652</td>\n",
       "      <td>1.000000</td>\n",
       "    </tr>\n",
       "    <tr>\n",
       "      <th>max</th>\n",
       "      <td>3.108743</td>\n",
       "      <td>3.892678</td>\n",
       "      <td>1.000000</td>\n",
       "    </tr>\n",
       "  </tbody>\n",
       "</table>\n",
       "</div>"
      ],
      "text/plain": [
       "                0           1           2\n",
       "count  100.000000  100.000000  100.000000\n",
       "mean     0.930868    1.855540    0.500000\n",
       "std      1.248367    0.713457    0.502519\n",
       "min     -1.801737    0.568025    0.000000\n",
       "25%     -0.143369    1.296152    0.000000\n",
       "50%      1.171946    1.806731    0.500000\n",
       "75%      1.881075    2.249652    1.000000\n",
       "max      3.108743    3.892678    1.000000"
      ]
     },
     "execution_count": 8,
     "metadata": {},
     "output_type": "execute_result"
    }
   ],
   "source": [
    "data.describe()"
   ]
  },
  {
   "cell_type": "code",
   "execution_count": 9,
   "id": "349919e9",
   "metadata": {},
   "outputs": [],
   "source": [
    "from sklearn.model_selection import train_test_split\n",
    "X_train, X_test, y_train, y_test = train_test_split(data[[0,1]],data[2],test_size=0.2,random_state=42)"
   ]
  },
  {
   "cell_type": "code",
   "execution_count": 10,
   "id": "0db044cd",
   "metadata": {},
   "outputs": [],
   "source": [
    "from sklearn.preprocessing import StandardScaler\n",
    "scale = StandardScaler()\n",
    "X_trains = scale.fit_transform(X_train)\n",
    "X_tests = scale.transform(X_test)"
   ]
  },
  {
   "cell_type": "code",
   "execution_count": 11,
   "id": "dca22e17",
   "metadata": {},
   "outputs": [],
   "source": [
    "import tensorflow\n",
    "from tensorflow import keras\n",
    "from keras.models import Sequential\n",
    "from keras.layers import Dense, Dropout,BatchNormalization\n",
    "from keras.callbacks import EarlyStopping\n"
   ]
  },
  {
   "cell_type": "code",
   "execution_count": null,
   "id": "533a2503",
   "metadata": {},
   "outputs": [],
   "source": [
    "call = EarlyStopping()"
   ]
  },
  {
   "cell_type": "code",
   "execution_count": 16,
   "id": "d03af351",
   "metadata": {},
   "outputs": [],
   "source": [
    "model = Sequential()\n",
    "model.add(Dense(6,activation=\"relu\",input_dim=2))\n",
    "model.add(BatchNormalization())\n",
    "model.add(Dense(5,activation=\"relu\"))\n",
    "model.add(BatchNormalization())\n",
    "model.add(Dense(4,activation=\"relu\"))\n",
    "model.add(BatchNormalization())\n",
    "model.add(Dense(3,activation=\"relu\"))\n",
    "model.add(BatchNormalization())\n",
    "model.add(Dense(2,activation=\"relu\"))\n",
    "model.add(BatchNormalization())\n",
    "model.add(Dense(1,activation=\"sigmoid\"))"
   ]
  },
  {
   "cell_type": "code",
   "execution_count": 17,
   "id": "a3445cd6",
   "metadata": {},
   "outputs": [
    {
     "name": "stdout",
     "output_type": "stream",
     "text": [
      "Model: \"sequential\"\n",
      "_________________________________________________________________\n",
      " Layer (type)                Output Shape              Param #   \n",
      "=================================================================\n",
      " dense (Dense)               (None, 6)                 18        \n",
      "                                                                 \n",
      " dense_1 (Dense)             (None, 6)                 42        \n",
      "                                                                 \n",
      " dense_2 (Dense)             (None, 5)                 35        \n",
      "                                                                 \n",
      " dense_3 (Dense)             (None, 4)                 24        \n",
      "                                                                 \n",
      " dense_4 (Dense)             (None, 3)                 15        \n",
      "                                                                 \n",
      " dense_5 (Dense)             (None, 2)                 8         \n",
      "                                                                 \n",
      " dense_6 (Dense)             (None, 1)                 3         \n",
      "                                                                 \n",
      "=================================================================\n",
      "Total params: 145\n",
      "Trainable params: 145\n",
      "Non-trainable params: 0\n",
      "_________________________________________________________________\n"
     ]
    }
   ],
   "source": [
    "model.summary()"
   ]
  },
  {
   "cell_type": "code",
   "execution_count": 18,
   "id": "49c2bcbf",
   "metadata": {},
   "outputs": [],
   "source": [
    "model.compile(optimizer=\"adam\",loss=\"binary_crossentropy\",metrics=[\"accuracy\"])"
   ]
  },
  {
   "cell_type": "code",
   "execution_count": 19,
   "id": "2c10997a",
   "metadata": {},
   "outputs": [
    {
     "name": "stdout",
     "output_type": "stream",
     "text": [
      "Epoch 1/50\n",
      "6/6 [==============================] - 2s 80ms/step - loss: 0.6852 - accuracy: 0.4844 - val_loss: 0.6945 - val_accuracy: 0.3125\n",
      "Epoch 2/50\n",
      "6/6 [==============================] - 0s 11ms/step - loss: 0.6807 - accuracy: 0.5312 - val_loss: 0.6938 - val_accuracy: 0.3125\n",
      "Epoch 3/50\n",
      "6/6 [==============================] - 0s 11ms/step - loss: 0.6755 - accuracy: 0.5312 - val_loss: 0.6933 - val_accuracy: 0.3125\n",
      "Epoch 4/50\n",
      "6/6 [==============================] - 0s 11ms/step - loss: 0.6696 - accuracy: 0.5312 - val_loss: 0.6911 - val_accuracy: 0.3125\n",
      "Epoch 5/50\n",
      "6/6 [==============================] - 0s 12ms/step - loss: 0.6626 - accuracy: 0.5312 - val_loss: 0.6882 - val_accuracy: 0.3125\n",
      "Epoch 6/50\n",
      "6/6 [==============================] - 0s 11ms/step - loss: 0.6557 - accuracy: 0.5312 - val_loss: 0.6858 - val_accuracy: 0.3125\n",
      "Epoch 7/50\n",
      "6/6 [==============================] - 0s 11ms/step - loss: 0.6476 - accuracy: 0.5312 - val_loss: 0.6830 - val_accuracy: 0.3125\n",
      "Epoch 8/50\n",
      "6/6 [==============================] - 0s 11ms/step - loss: 0.6391 - accuracy: 0.5312 - val_loss: 0.6787 - val_accuracy: 0.3125\n",
      "Epoch 9/50\n",
      "6/6 [==============================] - 0s 13ms/step - loss: 0.6305 - accuracy: 0.5312 - val_loss: 0.6745 - val_accuracy: 0.3125\n",
      "Epoch 10/50\n",
      "6/6 [==============================] - 0s 12ms/step - loss: 0.6204 - accuracy: 0.5312 - val_loss: 0.6690 - val_accuracy: 0.3125\n",
      "Epoch 11/50\n",
      "6/6 [==============================] - 0s 11ms/step - loss: 0.6101 - accuracy: 0.5312 - val_loss: 0.6631 - val_accuracy: 0.3125\n",
      "Epoch 12/50\n",
      "6/6 [==============================] - 0s 14ms/step - loss: 0.5999 - accuracy: 0.5312 - val_loss: 0.6583 - val_accuracy: 0.3125\n",
      "Epoch 13/50\n",
      "6/6 [==============================] - 0s 10ms/step - loss: 0.5876 - accuracy: 0.5312 - val_loss: 0.6507 - val_accuracy: 0.3125\n",
      "Epoch 14/50\n",
      "6/6 [==============================] - 0s 12ms/step - loss: 0.5756 - accuracy: 0.5312 - val_loss: 0.6428 - val_accuracy: 0.3125\n",
      "Epoch 15/50\n",
      "6/6 [==============================] - 0s 13ms/step - loss: 0.5628 - accuracy: 0.5312 - val_loss: 0.6360 - val_accuracy: 0.3125\n",
      "Epoch 16/50\n",
      "6/6 [==============================] - 0s 12ms/step - loss: 0.5492 - accuracy: 0.5469 - val_loss: 0.6292 - val_accuracy: 0.7500\n",
      "Epoch 17/50\n",
      "6/6 [==============================] - 0s 12ms/step - loss: 0.5372 - accuracy: 0.7656 - val_loss: 0.6220 - val_accuracy: 0.7500\n",
      "Epoch 18/50\n",
      "6/6 [==============================] - 0s 13ms/step - loss: 0.5233 - accuracy: 0.8125 - val_loss: 0.6145 - val_accuracy: 0.8750\n",
      "Epoch 19/50\n",
      "6/6 [==============================] - 0s 12ms/step - loss: 0.5111 - accuracy: 0.8125 - val_loss: 0.6069 - val_accuracy: 0.8750\n",
      "Epoch 20/50\n",
      "6/6 [==============================] - 0s 11ms/step - loss: 0.4990 - accuracy: 0.8750 - val_loss: 0.5995 - val_accuracy: 0.8750\n",
      "Epoch 21/50\n",
      "6/6 [==============================] - 0s 14ms/step - loss: 0.4867 - accuracy: 0.9062 - val_loss: 0.5926 - val_accuracy: 0.8750\n",
      "Epoch 22/50\n",
      "6/6 [==============================] - 0s 12ms/step - loss: 0.4748 - accuracy: 0.9062 - val_loss: 0.5864 - val_accuracy: 0.8750\n",
      "Epoch 23/50\n",
      "6/6 [==============================] - 0s 12ms/step - loss: 0.4639 - accuracy: 0.9062 - val_loss: 0.5805 - val_accuracy: 0.8750\n",
      "Epoch 24/50\n",
      "6/6 [==============================] - 0s 12ms/step - loss: 0.4536 - accuracy: 0.9062 - val_loss: 0.5754 - val_accuracy: 0.8750\n",
      "Epoch 25/50\n",
      "6/6 [==============================] - 0s 12ms/step - loss: 0.4442 - accuracy: 0.8906 - val_loss: 0.5694 - val_accuracy: 0.8750\n",
      "Epoch 26/50\n",
      "6/6 [==============================] - 0s 12ms/step - loss: 0.4347 - accuracy: 0.9062 - val_loss: 0.5637 - val_accuracy: 0.9375\n",
      "Epoch 27/50\n",
      "6/6 [==============================] - 0s 11ms/step - loss: 0.4264 - accuracy: 0.9062 - val_loss: 0.5586 - val_accuracy: 0.9375\n",
      "Epoch 28/50\n",
      "6/6 [==============================] - 0s 12ms/step - loss: 0.4185 - accuracy: 0.9219 - val_loss: 0.5535 - val_accuracy: 0.9375\n",
      "Epoch 29/50\n",
      "6/6 [==============================] - 0s 13ms/step - loss: 0.4111 - accuracy: 0.9531 - val_loss: 0.5482 - val_accuracy: 0.9375\n",
      "Epoch 30/50\n",
      "6/6 [==============================] - 0s 11ms/step - loss: 0.4037 - accuracy: 0.9531 - val_loss: 0.5438 - val_accuracy: 0.9375\n",
      "Epoch 31/50\n",
      "6/6 [==============================] - 0s 10ms/step - loss: 0.3981 - accuracy: 0.9375 - val_loss: 0.5396 - val_accuracy: 0.9375\n",
      "Epoch 32/50\n",
      "6/6 [==============================] - 0s 11ms/step - loss: 0.3924 - accuracy: 0.9375 - val_loss: 0.5368 - val_accuracy: 0.9375\n",
      "Epoch 33/50\n",
      "6/6 [==============================] - 0s 11ms/step - loss: 0.3871 - accuracy: 0.9531 - val_loss: 0.5345 - val_accuracy: 0.9375\n",
      "Epoch 34/50\n",
      "6/6 [==============================] - 0s 12ms/step - loss: 0.3820 - accuracy: 0.9375 - val_loss: 0.5323 - val_accuracy: 0.9375\n",
      "Epoch 35/50\n",
      "6/6 [==============================] - 0s 12ms/step - loss: 0.3771 - accuracy: 0.9375 - val_loss: 0.5291 - val_accuracy: 0.9375\n",
      "Epoch 36/50\n",
      "6/6 [==============================] - 0s 11ms/step - loss: 0.3726 - accuracy: 0.9375 - val_loss: 0.5271 - val_accuracy: 0.9375\n",
      "Epoch 37/50\n",
      "6/6 [==============================] - 0s 12ms/step - loss: 0.3687 - accuracy: 0.9375 - val_loss: 0.5245 - val_accuracy: 0.9375\n",
      "Epoch 38/50\n",
      "6/6 [==============================] - 0s 12ms/step - loss: 0.3644 - accuracy: 0.9375 - val_loss: 0.5238 - val_accuracy: 0.9375\n",
      "Epoch 39/50\n",
      "6/6 [==============================] - 0s 11ms/step - loss: 0.3607 - accuracy: 0.9531 - val_loss: 0.5227 - val_accuracy: 0.9375\n",
      "Epoch 40/50\n",
      "6/6 [==============================] - 0s 11ms/step - loss: 0.3573 - accuracy: 0.9531 - val_loss: 0.5208 - val_accuracy: 0.9375\n",
      "Epoch 41/50\n",
      "6/6 [==============================] - 0s 10ms/step - loss: 0.3540 - accuracy: 0.9531 - val_loss: 0.5189 - val_accuracy: 0.9375\n",
      "Epoch 42/50\n",
      "6/6 [==============================] - 0s 10ms/step - loss: 0.3511 - accuracy: 0.9531 - val_loss: 0.5178 - val_accuracy: 0.9375\n",
      "Epoch 43/50\n",
      "6/6 [==============================] - 0s 12ms/step - loss: 0.3481 - accuracy: 0.9531 - val_loss: 0.5167 - val_accuracy: 0.9375\n",
      "Epoch 44/50\n",
      "6/6 [==============================] - 0s 11ms/step - loss: 0.3456 - accuracy: 0.9531 - val_loss: 0.5131 - val_accuracy: 0.9375\n",
      "Epoch 45/50\n",
      "6/6 [==============================] - 0s 11ms/step - loss: 0.3428 - accuracy: 0.9531 - val_loss: 0.5117 - val_accuracy: 0.9375\n",
      "Epoch 46/50\n",
      "6/6 [==============================] - 0s 12ms/step - loss: 0.3400 - accuracy: 0.9531 - val_loss: 0.5115 - val_accuracy: 0.9375\n",
      "Epoch 47/50\n",
      "6/6 [==============================] - 0s 12ms/step - loss: 0.3373 - accuracy: 0.9688 - val_loss: 0.5126 - val_accuracy: 0.9375\n",
      "Epoch 48/50\n",
      "6/6 [==============================] - 0s 11ms/step - loss: 0.3351 - accuracy: 0.9688 - val_loss: 0.5109 - val_accuracy: 0.9375\n",
      "Epoch 49/50\n",
      "6/6 [==============================] - 0s 12ms/step - loss: 0.3322 - accuracy: 0.9688 - val_loss: 0.5091 - val_accuracy: 0.9375\n",
      "Epoch 50/50\n",
      "6/6 [==============================] - 0s 12ms/step - loss: 0.3301 - accuracy: 0.9688 - val_loss: 0.5086 - val_accuracy: 0.9375\n"
     ]
    }
   ],
   "source": [
    "history = model.fit(X_trains,y_train,epochs=50,batch_size=12,validation_split=0.2,callbacks=call)"
   ]
  },
  {
   "cell_type": "code",
   "execution_count": 20,
   "id": "cfac3fd8",
   "metadata": {},
   "outputs": [],
   "source": [
    "from mlxtend.plotting import plot_decision_regions as pt"
   ]
  },
  {
   "cell_type": "code",
   "execution_count": 21,
   "id": "a7946d27",
   "metadata": {},
   "outputs": [
    {
     "name": "stdout",
     "output_type": "stream",
     "text": [
      "33750/33750 [==============================] - 43s 1ms/step\n"
     ]
    },
    {
     "data": {
      "image/png": "[encoded data removed]",
      "text/plain": [
       "<Figure size 1200x900 with 1 Axes>"
      ]
     },
     "metadata": {},
     "output_type": "display_data"
    }
   ],
   "source": [
    "plt.figure(figsize=(8,6),dpi=150)\n",
    "pt(X_trains,y_train.values.astype(int),clf=model)\n",
    "plt.title(\"X_train Decision regions\",color='red',fontsize='medium',fontfamily='serif')\n",
    "plt.xlabel(\"X_train\",color='red',fontsize='medium',fontfamily='serif')\n",
    "plt.ylabel(\"y_train\",color='red',fontsize='medium',fontfamily='serif')\n",
    "plt.show()"
   ]
  },
  {
   "cell_type": "code",
   "execution_count": 22,
   "id": "d8618096",
   "metadata": {},
   "outputs": [
    {
     "name": "stdout",
     "output_type": "stream",
     "text": [
      "1/1 [==============================] - 0s 102ms/step\n"
     ]
    }
   ],
   "source": [
    "y_pred = model.predict(X_tests)"
   ]
  },
  {
   "cell_type": "code",
   "execution_count": 25,
   "id": "a20ad6cd",
   "metadata": {},
   "outputs": [],
   "source": [
    "y_predf = np.array([1 if x>0.5 else 0 for x in y_pred])"
   ]
  },
  {
   "cell_type": "code",
   "execution_count": 24,
   "id": "b51389b5",
   "metadata": {},
   "outputs": [
    {
     "name": "stdout",
     "output_type": "stream",
     "text": [
      "33750/33750 [==============================] - 43s 1ms/step\n"
     ]
    },
    {
     "data": {
      "image/png": "[encoded data removed]",
      "text/plain": [
       "<Figure size 1200x900 with 1 Axes>"
      ]
     },
     "metadata": {},
     "output_type": "display_data"
    }
   ],
   "source": [
    "plt.figure(figsize=(8,6),dpi=150)\n",
    "pt(X_tests,y_predf.astype(int),clf=model)\n",
    "plt.title(\"X_test Decision regions\",color='red',fontsize='medium',fontfamily='serif')\n",
    "plt.xlabel(\"X_test\",color='red',fontsize='medium',fontfamily='serif')\n",
    "plt.ylabel(\"y_test\",color='red',fontsize='medium',fontfamily='serif')\n",
    "plt.show()"
   ]
  },
  {
   "cell_type": "code",
   "execution_count": 27,
   "id": "47db78e3",
   "metadata": {},
   "outputs": [
    {
     "data": {
      "text/plain": [
       "0.9"
      ]
     },
     "execution_count": 27,
     "metadata": {},
     "output_type": "execute_result"
    }
   ],
   "source": [
    "from sklearn.metrics import accuracy_score\n",
    "accuracy_score(y_test,y_predf)"
   ]
  },
  {
   "cell_type": "code",
   "execution_count": null,
   "id": "5349df37",
   "metadata": {},
   "outputs": [],
   "source": []
  }
 ],
 "metadata": {
  "kernelspec": {
   "display_name": "Python 3 (ipykernel)",
   "language": "python",
   "name": "python3"
  },
  "language_info": {
   "codemirror_mode": {
    "name": "ipython",
    "version": 3
   },
   "file_extension": ".py",
   "mimetype": "text/x-python",
   "name": "python",
   "nbconvert_exporter": "python",
   "pygments_lexer": "ipython3",
   "version": "3.10.9"
  }
 },
 "nbformat": 4,
 "nbformat_minor": 5
}
