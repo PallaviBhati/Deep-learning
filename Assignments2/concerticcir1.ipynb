{
 "cells": [
  {
   "cell_type": "markdown",
   "id": "c7785380",
   "metadata": {},
   "source": [
    "Data Description:\n",
    "- The dataset consists of three columns and 100 rows which includes two feature columns and one label column.\n",
    "- Features columns are in the form of float and continuous values ranges from [-1.131849 to 1.129808] and [-1.289427 to 1.073060] and the means are at [-0.010872 and -0.019289].\n",
    "- Whereas label is in the form discreate numerical float values that inclueds [0.0 and 1.o]. 50% of the data consists of 0 and rest consists of 1 as labels.\n",
    "- There are zero duplicates and no null values consists in the dataset.\n",
    "- Pattern that is formed by the input features is concentirc circles. That means both the circles have common center,one circle  consists of labels as 0 and the other consists of 1."
   ]
  },
  {
   "cell_type": "code",
   "execution_count": 12,
   "id": "84c67b5d",
   "metadata": {},
   "outputs": [],
   "source": [
    "import pandas as pd\n",
    "import numpy as np\n",
    "import matplotlib.pyplot as plt\n",
    "import seaborn as sns"
   ]
  },
  {
   "cell_type": "code",
   "execution_count": 13,
   "id": "867d3c07",
   "metadata": {},
   "outputs": [],
   "source": [
    "data=pd.read_csv(r'C:\\Users\\chauh\\Downloads\\2.concerticcir1.csv',header=None)"
   ]
  },
  {
   "cell_type": "code",
   "execution_count": 14,
   "id": "13532451",
   "metadata": {},
   "outputs": [
    {
     "data": {
      "text/html": [
       "<div>\n",
       "<style scoped>\n",
       "    .dataframe tbody tr th:only-of-type {\n",
       "        vertical-align: middle;\n",
       "    }\n",
       "\n",
       "    .dataframe tbody tr th {\n",
       "        vertical-align: top;\n",
       "    }\n",
       "\n",
       "    .dataframe thead th {\n",
       "        text-align: right;\n",
       "    }\n",
       "</style>\n",
       "<table border=\"1\" class=\"dataframe\">\n",
       "  <thead>\n",
       "    <tr style=\"text-align: right;\">\n",
       "      <th></th>\n",
       "      <th>0</th>\n",
       "      <th>1</th>\n",
       "      <th>2</th>\n",
       "    </tr>\n",
       "  </thead>\n",
       "  <tbody>\n",
       "    <tr>\n",
       "      <th>0</th>\n",
       "      <td>-0.382891</td>\n",
       "      <td>-0.090840</td>\n",
       "      <td>1.0</td>\n",
       "    </tr>\n",
       "    <tr>\n",
       "      <th>1</th>\n",
       "      <td>-0.020962</td>\n",
       "      <td>-0.477874</td>\n",
       "      <td>1.0</td>\n",
       "    </tr>\n",
       "    <tr>\n",
       "      <th>2</th>\n",
       "      <td>-0.396116</td>\n",
       "      <td>-1.289427</td>\n",
       "      <td>0.0</td>\n",
       "    </tr>\n",
       "    <tr>\n",
       "      <th>3</th>\n",
       "      <td>-0.618130</td>\n",
       "      <td>-0.063837</td>\n",
       "      <td>1.0</td>\n",
       "    </tr>\n",
       "    <tr>\n",
       "      <th>4</th>\n",
       "      <td>0.703478</td>\n",
       "      <td>-0.187038</td>\n",
       "      <td>1.0</td>\n",
       "    </tr>\n",
       "  </tbody>\n",
       "</table>\n",
       "</div>"
      ],
      "text/plain": [
       "          0         1    2\n",
       "0 -0.382891 -0.090840  1.0\n",
       "1 -0.020962 -0.477874  1.0\n",
       "2 -0.396116 -1.289427  0.0\n",
       "3 -0.618130 -0.063837  1.0\n",
       "4  0.703478 -0.187038  1.0"
      ]
     },
     "execution_count": 14,
     "metadata": {},
     "output_type": "execute_result"
    }
   ],
   "source": [
    "data.head()"
   ]
  },
  {
   "cell_type": "code",
   "execution_count": 15,
   "id": "f5beffb1",
   "metadata": {},
   "outputs": [
    {
     "data": {
      "text/html": [
       "<div>\n",
       "<style scoped>\n",
       "    .dataframe tbody tr th:only-of-type {\n",
       "        vertical-align: middle;\n",
       "    }\n",
       "\n",
       "    .dataframe tbody tr th {\n",
       "        vertical-align: top;\n",
       "    }\n",
       "\n",
       "    .dataframe thead th {\n",
       "        text-align: right;\n",
       "    }\n",
       "</style>\n",
       "<table border=\"1\" class=\"dataframe\">\n",
       "  <thead>\n",
       "    <tr style=\"text-align: right;\">\n",
       "      <th></th>\n",
       "      <th>0</th>\n",
       "      <th>1</th>\n",
       "    </tr>\n",
       "  </thead>\n",
       "  <tbody>\n",
       "    <tr>\n",
       "      <th>0</th>\n",
       "      <td>-0.382891</td>\n",
       "      <td>-0.090840</td>\n",
       "    </tr>\n",
       "    <tr>\n",
       "      <th>1</th>\n",
       "      <td>-0.020962</td>\n",
       "      <td>-0.477874</td>\n",
       "    </tr>\n",
       "    <tr>\n",
       "      <th>2</th>\n",
       "      <td>-0.396116</td>\n",
       "      <td>-1.289427</td>\n",
       "    </tr>\n",
       "    <tr>\n",
       "      <th>3</th>\n",
       "      <td>-0.618130</td>\n",
       "      <td>-0.063837</td>\n",
       "    </tr>\n",
       "    <tr>\n",
       "      <th>4</th>\n",
       "      <td>0.703478</td>\n",
       "      <td>-0.187038</td>\n",
       "    </tr>\n",
       "    <tr>\n",
       "      <th>...</th>\n",
       "      <td>...</td>\n",
       "      <td>...</td>\n",
       "    </tr>\n",
       "    <tr>\n",
       "      <th>95</th>\n",
       "      <td>-0.474862</td>\n",
       "      <td>-0.224981</td>\n",
       "    </tr>\n",
       "    <tr>\n",
       "      <th>96</th>\n",
       "      <td>0.126272</td>\n",
       "      <td>0.869784</td>\n",
       "    </tr>\n",
       "    <tr>\n",
       "      <th>97</th>\n",
       "      <td>-0.647365</td>\n",
       "      <td>-0.363424</td>\n",
       "    </tr>\n",
       "    <tr>\n",
       "      <th>98</th>\n",
       "      <td>0.474405</td>\n",
       "      <td>1.011016</td>\n",
       "    </tr>\n",
       "    <tr>\n",
       "      <th>99</th>\n",
       "      <td>-0.385658</td>\n",
       "      <td>-0.810312</td>\n",
       "    </tr>\n",
       "  </tbody>\n",
       "</table>\n",
       "<p>100 rows × 2 columns</p>\n",
       "</div>"
      ],
      "text/plain": [
       "           0         1\n",
       "0  -0.382891 -0.090840\n",
       "1  -0.020962 -0.477874\n",
       "2  -0.396116 -1.289427\n",
       "3  -0.618130 -0.063837\n",
       "4   0.703478 -0.187038\n",
       "..       ...       ...\n",
       "95 -0.474862 -0.224981\n",
       "96  0.126272  0.869784\n",
       "97 -0.647365 -0.363424\n",
       "98  0.474405  1.011016\n",
       "99 -0.385658 -0.810312\n",
       "\n",
       "[100 rows x 2 columns]"
      ]
     },
     "execution_count": 15,
     "metadata": {},
     "output_type": "execute_result"
    }
   ],
   "source": [
    "data[[0,1]]"
   ]
  },
  {
   "cell_type": "code",
   "execution_count": 16,
   "id": "2a5ce7dc",
   "metadata": {},
   "outputs": [
    {
     "data": {
      "text/html": [
       "<div>\n",
       "<style scoped>\n",
       "    .dataframe tbody tr th:only-of-type {\n",
       "        vertical-align: middle;\n",
       "    }\n",
       "\n",
       "    .dataframe tbody tr th {\n",
       "        vertical-align: top;\n",
       "    }\n",
       "\n",
       "    .dataframe thead th {\n",
       "        text-align: right;\n",
       "    }\n",
       "</style>\n",
       "<table border=\"1\" class=\"dataframe\">\n",
       "  <thead>\n",
       "    <tr style=\"text-align: right;\">\n",
       "      <th></th>\n",
       "      <th>0</th>\n",
       "      <th>1</th>\n",
       "      <th>2</th>\n",
       "    </tr>\n",
       "  </thead>\n",
       "  <tbody>\n",
       "    <tr>\n",
       "      <th>count</th>\n",
       "      <td>100.000000</td>\n",
       "      <td>100.000000</td>\n",
       "      <td>100.000000</td>\n",
       "    </tr>\n",
       "    <tr>\n",
       "      <th>mean</th>\n",
       "      <td>-0.010872</td>\n",
       "      <td>-0.019289</td>\n",
       "      <td>0.500000</td>\n",
       "    </tr>\n",
       "    <tr>\n",
       "      <th>std</th>\n",
       "      <td>0.577796</td>\n",
       "      <td>0.542785</td>\n",
       "      <td>0.502519</td>\n",
       "    </tr>\n",
       "    <tr>\n",
       "      <th>min</th>\n",
       "      <td>-1.131849</td>\n",
       "      <td>-1.289427</td>\n",
       "      <td>0.000000</td>\n",
       "    </tr>\n",
       "    <tr>\n",
       "      <th>25%</th>\n",
       "      <td>-0.450428</td>\n",
       "      <td>-0.433372</td>\n",
       "      <td>0.000000</td>\n",
       "    </tr>\n",
       "    <tr>\n",
       "      <th>50%</th>\n",
       "      <td>-0.030343</td>\n",
       "      <td>-0.030291</td>\n",
       "      <td>0.500000</td>\n",
       "    </tr>\n",
       "    <tr>\n",
       "      <th>75%</th>\n",
       "      <td>0.425418</td>\n",
       "      <td>0.420430</td>\n",
       "      <td>1.000000</td>\n",
       "    </tr>\n",
       "    <tr>\n",
       "      <th>max</th>\n",
       "      <td>1.129808</td>\n",
       "      <td>1.073060</td>\n",
       "      <td>1.000000</td>\n",
       "    </tr>\n",
       "  </tbody>\n",
       "</table>\n",
       "</div>"
      ],
      "text/plain": [
       "                0           1           2\n",
       "count  100.000000  100.000000  100.000000\n",
       "mean    -0.010872   -0.019289    0.500000\n",
       "std      0.577796    0.542785    0.502519\n",
       "min     -1.131849   -1.289427    0.000000\n",
       "25%     -0.450428   -0.433372    0.000000\n",
       "50%     -0.030343   -0.030291    0.500000\n",
       "75%      0.425418    0.420430    1.000000\n",
       "max      1.129808    1.073060    1.000000"
      ]
     },
     "execution_count": 16,
     "metadata": {},
     "output_type": "execute_result"
    }
   ],
   "source": [
    "data.describe()"
   ]
  },
  {
   "cell_type": "code",
   "execution_count": 17,
   "id": "d00ae4b3",
   "metadata": {},
   "outputs": [
    {
     "data": {
      "text/plain": [
       "1.0    50\n",
       "0.0    50\n",
       "Name: 2, dtype: int64"
      ]
     },
     "execution_count": 17,
     "metadata": {},
     "output_type": "execute_result"
    }
   ],
   "source": [
    "data[2].value_counts()"
   ]
  },
  {
   "cell_type": "code",
   "execution_count": 18,
   "id": "dbdcd892",
   "metadata": {},
   "outputs": [
    {
     "data": {
      "text/plain": [
       "0"
      ]
     },
     "execution_count": 18,
     "metadata": {},
     "output_type": "execute_result"
    }
   ],
   "source": [
    "data.duplicated().sum()"
   ]
  },
  {
   "cell_type": "code",
   "execution_count": 19,
   "id": "900ce8d1",
   "metadata": {},
   "outputs": [
    {
     "data": {
      "text/plain": [
       "0    0\n",
       "1    0\n",
       "2    0\n",
       "dtype: int64"
      ]
     },
     "execution_count": 19,
     "metadata": {},
     "output_type": "execute_result"
    }
   ],
   "source": [
    "data.isna().sum()"
   ]
  },
  {
   "cell_type": "code",
   "execution_count": 20,
   "id": "299945b2",
   "metadata": {},
   "outputs": [
    {
     "data": {
      "text/plain": [
       "<Axes: xlabel='0', ylabel='1'>"
      ]
     },
     "execution_count": 20,
     "metadata": {},
     "output_type": "execute_result"
    },
    {
     "data": {
      "image/png": "[encoded data removed]",
      "text/plain": [
       "<Figure size 640x480 with 1 Axes>"
      ]
     },
     "metadata": {},
     "output_type": "display_data"
    }
   ],
   "source": [
    "sns.scatterplot(data=data,x=0,y=1,hue=2)"
   ]
  },
  {
   "cell_type": "code",
   "execution_count": 21,
   "id": "f8912b31",
   "metadata": {},
   "outputs": [],
   "source": [
    "from sklearn.model_selection import train_test_split\n",
    "x_train,x_test,y_train,y_test=train_test_split(data[[0,1]],data[2],test_size=0.1)"
   ]
  },
  {
   "cell_type": "code",
   "execution_count": 22,
   "id": "83c8d246",
   "metadata": {},
   "outputs": [],
   "source": [
    "import tensorflow \n",
    "from tensorflow import keras\n",
    "from keras.models import Sequential\n",
    "from keras.layers import Dense,Dropout"
   ]
  },
  {
   "cell_type": "code",
   "execution_count": 27,
   "id": "68004aaa",
   "metadata": {},
   "outputs": [],
   "source": [
    "from sklearn.preprocessing import StandardScaler\n",
    "std=StandardScaler()\n",
    "x_trainf=std.fit_transform(x_train)\n",
    "x_testf=std.transform(x_test)"
   ]
  },
  {
   "cell_type": "code",
   "execution_count": 52,
   "id": "0b451234",
   "metadata": {},
   "outputs": [],
   "source": [
    "model=Sequential()\n",
    "model.add(Dense(6,activation=\"relu\",kernel_initializer='random_uniform',input_dim=2))\n",
    "model.add(Dropout(0.2))\n",
    "model.add(Dense(4,activation=\"relu\",kernel_initializer='random_uniform'))\n",
    "model.add(Dense(1,activation=\"sigmoid\"))"
   ]
  },
  {
   "cell_type": "code",
   "execution_count": null,
   "id": "6a5e7f32",
   "metadata": {},
   "outputs": [],
   "source": []
  },
  {
   "cell_type": "code",
   "execution_count": 53,
   "id": "b5daa05a",
   "metadata": {},
   "outputs": [
    {
     "name": "stdout",
     "output_type": "stream",
     "text": [
      "Model: \"sequential_4\"\n",
      "_________________________________________________________________\n",
      " Layer (type)                Output Shape              Param #   \n",
      "=================================================================\n",
      " dense_13 (Dense)            (None, 6)                 18        \n",
      "                                                                 \n",
      " dropout_7 (Dropout)         (None, 6)                 0         \n",
      "                                                                 \n",
      " dense_14 (Dense)            (None, 4)                 28        \n",
      "                                                                 \n",
      " dense_15 (Dense)            (None, 1)                 5         \n",
      "                                                                 \n",
      "=================================================================\n",
      "Total params: 51\n",
      "Trainable params: 51\n",
      "Non-trainable params: 0\n",
      "_________________________________________________________________\n"
     ]
    }
   ],
   "source": [
    "model.summary()"
   ]
  },
  {
   "cell_type": "code",
   "execution_count": 54,
   "id": "ba10393f",
   "metadata": {},
   "outputs": [],
   "source": [
    "model.compile(optimizer=\"Adam\",loss=\"binary_crossentropy\",metrics=[\"accuracy\"])"
   ]
  },
  {
   "cell_type": "code",
   "execution_count": 55,
   "id": "4508b628",
   "metadata": {},
   "outputs": [
    {
     "name": "stdout",
     "output_type": "stream",
     "text": [
      "Epoch 1/100\n",
      "8/8 [==============================] - 1s 45ms/step - loss: 0.6934 - accuracy: 0.4722 - val_loss: 0.6943 - val_accuracy: 0.3333\n",
      "Epoch 2/100\n",
      "8/8 [==============================] - 0s 10ms/step - loss: 0.6930 - accuracy: 0.5139 - val_loss: 0.6935 - val_accuracy: 0.3333\n",
      "Epoch 3/100\n",
      "8/8 [==============================] - 0s 10ms/step - loss: 0.6930 - accuracy: 0.5139 - val_loss: 0.6937 - val_accuracy: 0.3333\n",
      "Epoch 4/100\n",
      "8/8 [==============================] - 0s 10ms/step - loss: 0.6930 - accuracy: 0.5139 - val_loss: 0.6946 - val_accuracy: 0.3333\n",
      "Epoch 5/100\n",
      "8/8 [==============================] - 0s 12ms/step - loss: 0.6927 - accuracy: 0.5139 - val_loss: 0.6947 - val_accuracy: 0.3333\n",
      "Epoch 6/100\n",
      "8/8 [==============================] - 0s 12ms/step - loss: 0.6926 - accuracy: 0.5139 - val_loss: 0.6940 - val_accuracy: 0.3333\n",
      "Epoch 7/100\n",
      "8/8 [==============================] - 0s 12ms/step - loss: 0.6924 - accuracy: 0.5139 - val_loss: 0.6941 - val_accuracy: 0.3333\n",
      "Epoch 8/100\n",
      "8/8 [==============================] - 0s 12ms/step - loss: 0.6923 - accuracy: 0.5417 - val_loss: 0.6935 - val_accuracy: 0.4444\n",
      "Epoch 9/100\n",
      "8/8 [==============================] - 0s 13ms/step - loss: 0.6921 - accuracy: 0.6528 - val_loss: 0.6930 - val_accuracy: 0.5556\n",
      "Epoch 10/100\n",
      "8/8 [==============================] - 0s 10ms/step - loss: 0.6926 - accuracy: 0.6111 - val_loss: 0.6923 - val_accuracy: 0.6667\n",
      "Epoch 11/100\n",
      "8/8 [==============================] - 0s 9ms/step - loss: 0.6922 - accuracy: 0.5833 - val_loss: 0.6925 - val_accuracy: 0.5556\n",
      "Epoch 12/100\n",
      "8/8 [==============================] - 0s 10ms/step - loss: 0.6918 - accuracy: 0.7083 - val_loss: 0.6935 - val_accuracy: 0.4444\n",
      "Epoch 13/100\n",
      "8/8 [==============================] - 0s 12ms/step - loss: 0.6912 - accuracy: 0.5972 - val_loss: 0.6948 - val_accuracy: 0.3333\n",
      "Epoch 14/100\n",
      "8/8 [==============================] - 0s 12ms/step - loss: 0.6916 - accuracy: 0.5278 - val_loss: 0.6958 - val_accuracy: 0.3333\n",
      "Epoch 15/100\n",
      "8/8 [==============================] - 0s 9ms/step - loss: 0.6908 - accuracy: 0.5278 - val_loss: 0.6957 - val_accuracy: 0.3333\n",
      "Epoch 16/100\n",
      "8/8 [==============================] - 0s 12ms/step - loss: 0.6898 - accuracy: 0.5833 - val_loss: 0.6942 - val_accuracy: 0.4444\n",
      "Epoch 17/100\n",
      "8/8 [==============================] - 0s 14ms/step - loss: 0.6892 - accuracy: 0.7361 - val_loss: 0.6929 - val_accuracy: 0.5556\n",
      "Epoch 18/100\n",
      "8/8 [==============================] - 0s 13ms/step - loss: 0.6898 - accuracy: 0.6667 - val_loss: 0.6928 - val_accuracy: 0.5556\n",
      "Epoch 19/100\n",
      "8/8 [==============================] - 0s 11ms/step - loss: 0.6901 - accuracy: 0.6250 - val_loss: 0.6932 - val_accuracy: 0.5000\n",
      "Epoch 20/100\n",
      "8/8 [==============================] - 0s 13ms/step - loss: 0.6901 - accuracy: 0.6111 - val_loss: 0.6932 - val_accuracy: 0.5000\n",
      "Epoch 21/100\n",
      "8/8 [==============================] - 0s 23ms/step - loss: 0.6884 - accuracy: 0.6389 - val_loss: 0.6936 - val_accuracy: 0.4444\n",
      "Epoch 22/100\n",
      "8/8 [==============================] - 0s 9ms/step - loss: 0.6873 - accuracy: 0.6667 - val_loss: 0.6945 - val_accuracy: 0.4444\n",
      "Epoch 23/100\n",
      "8/8 [==============================] - 0s 10ms/step - loss: 0.6863 - accuracy: 0.6944 - val_loss: 0.6952 - val_accuracy: 0.4444\n",
      "Epoch 24/100\n",
      "8/8 [==============================] - 0s 9ms/step - loss: 0.6862 - accuracy: 0.6389 - val_loss: 0.6961 - val_accuracy: 0.4444\n",
      "Epoch 25/100\n",
      "8/8 [==============================] - 0s 11ms/step - loss: 0.6854 - accuracy: 0.6667 - val_loss: 0.6952 - val_accuracy: 0.4444\n",
      "Epoch 26/100\n",
      "8/8 [==============================] - 0s 10ms/step - loss: 0.6862 - accuracy: 0.6389 - val_loss: 0.6946 - val_accuracy: 0.4444\n",
      "Epoch 27/100\n",
      "8/8 [==============================] - 0s 14ms/step - loss: 0.6825 - accuracy: 0.6944 - val_loss: 0.6931 - val_accuracy: 0.5000\n",
      "Epoch 28/100\n",
      "8/8 [==============================] - 0s 14ms/step - loss: 0.6837 - accuracy: 0.6389 - val_loss: 0.6930 - val_accuracy: 0.5000\n",
      "Epoch 29/100\n",
      "8/8 [==============================] - 0s 10ms/step - loss: 0.6817 - accuracy: 0.7083 - val_loss: 0.6930 - val_accuracy: 0.5000\n",
      "Epoch 30/100\n",
      "8/8 [==============================] - 0s 12ms/step - loss: 0.6827 - accuracy: 0.6806 - val_loss: 0.6927 - val_accuracy: 0.5556\n",
      "Epoch 31/100\n",
      "8/8 [==============================] - 0s 9ms/step - loss: 0.6827 - accuracy: 0.6944 - val_loss: 0.6920 - val_accuracy: 0.5000\n",
      "Epoch 32/100\n",
      "8/8 [==============================] - 0s 16ms/step - loss: 0.6807 - accuracy: 0.6389 - val_loss: 0.6915 - val_accuracy: 0.5000\n",
      "Epoch 33/100\n",
      "8/8 [==============================] - 0s 11ms/step - loss: 0.6802 - accuracy: 0.6806 - val_loss: 0.6910 - val_accuracy: 0.5556\n",
      "Epoch 34/100\n",
      "8/8 [==============================] - 0s 11ms/step - loss: 0.6805 - accuracy: 0.6528 - val_loss: 0.6906 - val_accuracy: 0.5556\n",
      "Epoch 35/100\n",
      "8/8 [==============================] - 0s 9ms/step - loss: 0.6777 - accuracy: 0.7083 - val_loss: 0.6906 - val_accuracy: 0.5556\n",
      "Epoch 36/100\n",
      "8/8 [==============================] - 0s 9ms/step - loss: 0.6787 - accuracy: 0.6667 - val_loss: 0.6894 - val_accuracy: 0.6111\n",
      "Epoch 37/100\n",
      "8/8 [==============================] - 0s 10ms/step - loss: 0.6759 - accuracy: 0.7500 - val_loss: 0.6886 - val_accuracy: 0.6667\n",
      "Epoch 38/100\n",
      "8/8 [==============================] - 0s 12ms/step - loss: 0.6773 - accuracy: 0.7222 - val_loss: 0.6859 - val_accuracy: 0.6111\n",
      "Epoch 39/100\n",
      "8/8 [==============================] - 0s 11ms/step - loss: 0.6742 - accuracy: 0.7361 - val_loss: 0.6863 - val_accuracy: 0.6111\n",
      "Epoch 40/100\n",
      "8/8 [==============================] - 0s 9ms/step - loss: 0.6746 - accuracy: 0.6944 - val_loss: 0.6874 - val_accuracy: 0.6111\n",
      "Epoch 41/100\n",
      "8/8 [==============================] - 0s 11ms/step - loss: 0.6737 - accuracy: 0.7222 - val_loss: 0.6872 - val_accuracy: 0.6111\n",
      "Epoch 42/100\n",
      "8/8 [==============================] - 0s 8ms/step - loss: 0.6744 - accuracy: 0.6944 - val_loss: 0.6874 - val_accuracy: 0.6111\n",
      "Epoch 43/100\n",
      "8/8 [==============================] - 0s 10ms/step - loss: 0.6692 - accuracy: 0.6944 - val_loss: 0.6861 - val_accuracy: 0.6111\n",
      "Epoch 44/100\n",
      "8/8 [==============================] - 0s 11ms/step - loss: 0.6711 - accuracy: 0.7222 - val_loss: 0.6841 - val_accuracy: 0.6111\n",
      "Epoch 45/100\n",
      "8/8 [==============================] - 0s 11ms/step - loss: 0.6621 - accuracy: 0.7500 - val_loss: 0.6827 - val_accuracy: 0.6111\n",
      "Epoch 46/100\n",
      "8/8 [==============================] - 0s 15ms/step - loss: 0.6624 - accuracy: 0.7361 - val_loss: 0.6815 - val_accuracy: 0.6111\n",
      "Epoch 47/100\n",
      "8/8 [==============================] - 0s 8ms/step - loss: 0.6698 - accuracy: 0.6528 - val_loss: 0.6791 - val_accuracy: 0.6111\n",
      "Epoch 48/100\n",
      "8/8 [==============================] - 0s 11ms/step - loss: 0.6605 - accuracy: 0.7083 - val_loss: 0.6790 - val_accuracy: 0.6111\n",
      "Epoch 49/100\n",
      "8/8 [==============================] - 0s 10ms/step - loss: 0.6622 - accuracy: 0.7361 - val_loss: 0.6789 - val_accuracy: 0.5556\n",
      "Epoch 50/100\n",
      "8/8 [==============================] - 0s 12ms/step - loss: 0.6619 - accuracy: 0.7222 - val_loss: 0.6814 - val_accuracy: 0.6111\n",
      "Epoch 51/100\n",
      "8/8 [==============================] - 0s 13ms/step - loss: 0.6597 - accuracy: 0.7083 - val_loss: 0.6817 - val_accuracy: 0.6667\n",
      "Epoch 52/100\n",
      "8/8 [==============================] - 0s 10ms/step - loss: 0.6585 - accuracy: 0.7222 - val_loss: 0.6798 - val_accuracy: 0.6111\n",
      "Epoch 53/100\n",
      "8/8 [==============================] - 0s 11ms/step - loss: 0.6525 - accuracy: 0.7222 - val_loss: 0.6774 - val_accuracy: 0.6111\n",
      "Epoch 54/100\n",
      "8/8 [==============================] - 0s 10ms/step - loss: 0.6523 - accuracy: 0.7639 - val_loss: 0.6739 - val_accuracy: 0.5556\n",
      "Epoch 55/100\n",
      "8/8 [==============================] - 0s 8ms/step - loss: 0.6509 - accuracy: 0.7361 - val_loss: 0.6736 - val_accuracy: 0.5556\n",
      "Epoch 56/100\n",
      "8/8 [==============================] - 0s 10ms/step - loss: 0.6477 - accuracy: 0.6806 - val_loss: 0.6732 - val_accuracy: 0.5556\n",
      "Epoch 57/100\n",
      "8/8 [==============================] - 0s 10ms/step - loss: 0.6540 - accuracy: 0.6944 - val_loss: 0.6742 - val_accuracy: 0.6111\n",
      "Epoch 58/100\n",
      "8/8 [==============================] - 0s 14ms/step - loss: 0.6550 - accuracy: 0.7083 - val_loss: 0.6733 - val_accuracy: 0.6111\n",
      "Epoch 59/100\n"
     ]
    },
    {
     "name": "stdout",
     "output_type": "stream",
     "text": [
      "8/8 [==============================] - 0s 14ms/step - loss: 0.6451 - accuracy: 0.6944 - val_loss: 0.6721 - val_accuracy: 0.6111\n",
      "Epoch 60/100\n",
      "8/8 [==============================] - 0s 10ms/step - loss: 0.6387 - accuracy: 0.7361 - val_loss: 0.6690 - val_accuracy: 0.6111\n",
      "Epoch 61/100\n",
      "8/8 [==============================] - 0s 9ms/step - loss: 0.6440 - accuracy: 0.7361 - val_loss: 0.6631 - val_accuracy: 0.6111\n",
      "Epoch 62/100\n",
      "8/8 [==============================] - 0s 9ms/step - loss: 0.6444 - accuracy: 0.6667 - val_loss: 0.6600 - val_accuracy: 0.6111\n",
      "Epoch 63/100\n",
      "8/8 [==============================] - 0s 10ms/step - loss: 0.6440 - accuracy: 0.6944 - val_loss: 0.6580 - val_accuracy: 0.6111\n",
      "Epoch 64/100\n",
      "8/8 [==============================] - 0s 10ms/step - loss: 0.6379 - accuracy: 0.7639 - val_loss: 0.6559 - val_accuracy: 0.6111\n",
      "Epoch 65/100\n",
      "8/8 [==============================] - 0s 8ms/step - loss: 0.6370 - accuracy: 0.7222 - val_loss: 0.6545 - val_accuracy: 0.6111\n",
      "Epoch 66/100\n",
      "8/8 [==============================] - 0s 10ms/step - loss: 0.6269 - accuracy: 0.7500 - val_loss: 0.6541 - val_accuracy: 0.6111\n",
      "Epoch 67/100\n",
      "8/8 [==============================] - 0s 11ms/step - loss: 0.6404 - accuracy: 0.7083 - val_loss: 0.6555 - val_accuracy: 0.5556\n",
      "Epoch 68/100\n",
      "8/8 [==============================] - 0s 10ms/step - loss: 0.6293 - accuracy: 0.7361 - val_loss: 0.6579 - val_accuracy: 0.5556\n",
      "Epoch 69/100\n",
      "8/8 [==============================] - 0s 11ms/step - loss: 0.6433 - accuracy: 0.6667 - val_loss: 0.6619 - val_accuracy: 0.5556\n",
      "Epoch 70/100\n",
      "8/8 [==============================] - 0s 10ms/step - loss: 0.6420 - accuracy: 0.6528 - val_loss: 0.6618 - val_accuracy: 0.5556\n",
      "Epoch 71/100\n",
      "8/8 [==============================] - 0s 10ms/step - loss: 0.6124 - accuracy: 0.7639 - val_loss: 0.6603 - val_accuracy: 0.5556\n",
      "Epoch 72/100\n",
      "8/8 [==============================] - 0s 14ms/step - loss: 0.6191 - accuracy: 0.7222 - val_loss: 0.6556 - val_accuracy: 0.5556\n",
      "Epoch 73/100\n",
      "8/8 [==============================] - 0s 10ms/step - loss: 0.6247 - accuracy: 0.6667 - val_loss: 0.6508 - val_accuracy: 0.5556\n",
      "Epoch 74/100\n",
      "8/8 [==============================] - 0s 9ms/step - loss: 0.6098 - accuracy: 0.7500 - val_loss: 0.6447 - val_accuracy: 0.6111\n",
      "Epoch 75/100\n",
      "8/8 [==============================] - 0s 8ms/step - loss: 0.6190 - accuracy: 0.7222 - val_loss: 0.6434 - val_accuracy: 0.6111\n",
      "Epoch 76/100\n",
      "8/8 [==============================] - 0s 10ms/step - loss: 0.5952 - accuracy: 0.7639 - val_loss: 0.6432 - val_accuracy: 0.6111\n",
      "Epoch 77/100\n",
      "8/8 [==============================] - 0s 10ms/step - loss: 0.6197 - accuracy: 0.7500 - val_loss: 0.6399 - val_accuracy: 0.6111\n",
      "Epoch 78/100\n",
      "8/8 [==============================] - 0s 7ms/step - loss: 0.5953 - accuracy: 0.7639 - val_loss: 0.6355 - val_accuracy: 0.6111\n",
      "Epoch 79/100\n",
      "8/8 [==============================] - 0s 8ms/step - loss: 0.6038 - accuracy: 0.7222 - val_loss: 0.6335 - val_accuracy: 0.6111\n",
      "Epoch 80/100\n",
      "8/8 [==============================] - 0s 10ms/step - loss: 0.5943 - accuracy: 0.7778 - val_loss: 0.6336 - val_accuracy: 0.6111\n",
      "Epoch 81/100\n",
      "8/8 [==============================] - 0s 10ms/step - loss: 0.6225 - accuracy: 0.6944 - val_loss: 0.6331 - val_accuracy: 0.6111\n",
      "Epoch 82/100\n",
      "8/8 [==============================] - 0s 10ms/step - loss: 0.5820 - accuracy: 0.7778 - val_loss: 0.6321 - val_accuracy: 0.6111\n",
      "Epoch 83/100\n",
      "8/8 [==============================] - 0s 8ms/step - loss: 0.5984 - accuracy: 0.7778 - val_loss: 0.6347 - val_accuracy: 0.6111\n",
      "Epoch 84/100\n",
      "8/8 [==============================] - 0s 8ms/step - loss: 0.6009 - accuracy: 0.7083 - val_loss: 0.6375 - val_accuracy: 0.6111\n",
      "Epoch 85/100\n",
      "8/8 [==============================] - 0s 11ms/step - loss: 0.6081 - accuracy: 0.7083 - val_loss: 0.6358 - val_accuracy: 0.6111\n",
      "Epoch 86/100\n",
      "8/8 [==============================] - 0s 12ms/step - loss: 0.6074 - accuracy: 0.7083 - val_loss: 0.6360 - val_accuracy: 0.6111\n",
      "Epoch 87/100\n",
      "8/8 [==============================] - 0s 9ms/step - loss: 0.6083 - accuracy: 0.7083 - val_loss: 0.6356 - val_accuracy: 0.6111\n",
      "Epoch 88/100\n",
      "8/8 [==============================] - 0s 9ms/step - loss: 0.5861 - accuracy: 0.7222 - val_loss: 0.6343 - val_accuracy: 0.6111\n",
      "Epoch 89/100\n",
      "8/8 [==============================] - 0s 8ms/step - loss: 0.6151 - accuracy: 0.6806 - val_loss: 0.6326 - val_accuracy: 0.6111\n",
      "Epoch 90/100\n",
      "8/8 [==============================] - 0s 11ms/step - loss: 0.5813 - accuracy: 0.7222 - val_loss: 0.6315 - val_accuracy: 0.6111\n",
      "Epoch 91/100\n",
      "8/8 [==============================] - 0s 11ms/step - loss: 0.5840 - accuracy: 0.7639 - val_loss: 0.6321 - val_accuracy: 0.6111\n",
      "Epoch 92/100\n",
      "8/8 [==============================] - 0s 11ms/step - loss: 0.6119 - accuracy: 0.7222 - val_loss: 0.6336 - val_accuracy: 0.6111\n",
      "Epoch 93/100\n",
      "8/8 [==============================] - 0s 10ms/step - loss: 0.5779 - accuracy: 0.7639 - val_loss: 0.6309 - val_accuracy: 0.6111\n",
      "Epoch 94/100\n",
      "8/8 [==============================] - 0s 13ms/step - loss: 0.5971 - accuracy: 0.7639 - val_loss: 0.6242 - val_accuracy: 0.6111\n",
      "Epoch 95/100\n",
      "8/8 [==============================] - 0s 10ms/step - loss: 0.5587 - accuracy: 0.8056 - val_loss: 0.6216 - val_accuracy: 0.6111\n",
      "Epoch 96/100\n",
      "8/8 [==============================] - 0s 10ms/step - loss: 0.5569 - accuracy: 0.8194 - val_loss: 0.6162 - val_accuracy: 0.6111\n",
      "Epoch 97/100\n",
      "8/8 [==============================] - 0s 8ms/step - loss: 0.5694 - accuracy: 0.8194 - val_loss: 0.6153 - val_accuracy: 0.6111\n",
      "Epoch 98/100\n",
      "8/8 [==============================] - 0s 13ms/step - loss: 0.5920 - accuracy: 0.6667 - val_loss: 0.6108 - val_accuracy: 0.6111\n",
      "Epoch 99/100\n",
      "8/8 [==============================] - 0s 12ms/step - loss: 0.5735 - accuracy: 0.7500 - val_loss: 0.6097 - val_accuracy: 0.6111\n",
      "Epoch 100/100\n",
      "8/8 [==============================] - 0s 9ms/step - loss: 0.5608 - accuracy: 0.7917 - val_loss: 0.6091 - val_accuracy: 0.6111\n"
     ]
    }
   ],
   "source": [
    "history=model.fit(x_trainf,y_train,batch_size=10,epochs=100,validation_split=0.2)"
   ]
  },
  {
   "cell_type": "code",
   "execution_count": 56,
   "id": "61d3a7e5",
   "metadata": {},
   "outputs": [
    {
     "name": "stdout",
     "output_type": "stream",
     "text": [
      "1/1 [==============================] - 0s 88ms/step\n"
     ]
    }
   ],
   "source": [
    "y_cap=model.predict(x_testf)"
   ]
  },
  {
   "cell_type": "code",
   "execution_count": 57,
   "id": "d8a6ba83",
   "metadata": {},
   "outputs": [],
   "source": [
    "y_capf=np.where(y_cap>0.5,1,0)"
   ]
  },
  {
   "cell_type": "code",
   "execution_count": 58,
   "id": "b7e35353",
   "metadata": {},
   "outputs": [
    {
     "data": {
      "text/plain": [
       "0.8"
      ]
     },
     "execution_count": 58,
     "metadata": {},
     "output_type": "execute_result"
    }
   ],
   "source": [
    "from sklearn.metrics import accuracy_score\n",
    "accuracy_score(y_test,y_capf)"
   ]
  },
  {
   "cell_type": "code",
   "execution_count": 36,
   "id": "73678c80",
   "metadata": {},
   "outputs": [
    {
     "data": {
      "text/plain": [
       "[<matplotlib.lines.Line2D at 0x1f7222da050>]"
      ]
     },
     "execution_count": 36,
     "metadata": {},
     "output_type": "execute_result"
    },
    {
     "data": {
      "image/png": "[encoded data removed]",
      "text/plain": [
       "<Figure size 640x480 with 1 Axes>"
      ]
     },
     "metadata": {},
     "output_type": "display_data"
    }
   ],
   "source": [
    "plt.plot(history.history[\"loss\"])\n",
    "plt.plot(history.history[\"val_loss\"])"
   ]
  },
  {
   "cell_type": "code",
   "execution_count": 64,
   "id": "98d4221b",
   "metadata": {},
   "outputs": [
    {
     "name": "stdout",
     "output_type": "stream",
     "text": [
      "Requirement already satisfied: mlxtend in c:\\users\\chauh\\downloads\\anaconda\\lib\\site-packages (0.22.0)\n",
      "Requirement already satisfied: scikit-learn>=1.0.2 in c:\\users\\chauh\\downloads\\anaconda\\lib\\site-packages (from mlxtend) (1.2.1)\n",
      "Requirement already satisfied: joblib>=0.13.2 in c:\\users\\chauh\\downloads\\anaconda\\lib\\site-packages (from mlxtend) (1.1.1)\n",
      "Requirement already satisfied: matplotlib>=3.0.0 in c:\\users\\chauh\\downloads\\anaconda\\lib\\site-packages (from mlxtend) (3.7.0)\n",
      "Requirement already satisfied: setuptools in c:\\users\\chauh\\downloads\\anaconda\\lib\\site-packages (from mlxtend) (65.6.3)\n",
      "Requirement already satisfied: scipy>=1.2.1 in c:\\users\\chauh\\downloads\\anaconda\\lib\\site-packages (from mlxtend) (1.10.0)\n",
      "Requirement already satisfied: pandas>=0.24.2 in c:\\users\\chauh\\downloads\\anaconda\\lib\\site-packages (from mlxtend) (1.5.3)\n",
      "Requirement already satisfied: numpy>=1.16.2 in c:\\users\\chauh\\downloads\\anaconda\\lib\\site-packages (from mlxtend) (1.23.5)\n",
      "Requirement already satisfied: fonttools>=4.22.0 in c:\\users\\chauh\\downloads\\anaconda\\lib\\site-packages (from matplotlib>=3.0.0->mlxtend) (4.25.0)\n",
      "Requirement already satisfied: python-dateutil>=2.7 in c:\\users\\chauh\\downloads\\anaconda\\lib\\site-packages (from matplotlib>=3.0.0->mlxtend) (2.8.2)\n",
      "Requirement already satisfied: pyparsing>=2.3.1 in c:\\users\\chauh\\downloads\\anaconda\\lib\\site-packages (from matplotlib>=3.0.0->mlxtend) (3.0.9)\n",
      "Requirement already satisfied: packaging>=20.0 in c:\\users\\chauh\\downloads\\anaconda\\lib\\site-packages (from matplotlib>=3.0.0->mlxtend) (22.0)\n",
      "Requirement already satisfied: kiwisolver>=1.0.1 in c:\\users\\chauh\\downloads\\anaconda\\lib\\site-packages (from matplotlib>=3.0.0->mlxtend) (1.4.4)\n",
      "Requirement already satisfied: cycler>=0.10 in c:\\users\\chauh\\downloads\\anaconda\\lib\\site-packages (from matplotlib>=3.0.0->mlxtend) (0.11.0)\n",
      "Requirement already satisfied: contourpy>=1.0.1 in c:\\users\\chauh\\downloads\\anaconda\\lib\\site-packages (from matplotlib>=3.0.0->mlxtend) (1.0.5)\n",
      "Requirement already satisfied: pillow>=6.2.0 in c:\\users\\chauh\\downloads\\anaconda\\lib\\site-packages (from matplotlib>=3.0.0->mlxtend) (9.4.0)\n",
      "Requirement already satisfied: pytz>=2020.1 in c:\\users\\chauh\\downloads\\anaconda\\lib\\site-packages (from pandas>=0.24.2->mlxtend) (2022.7)\n",
      "Requirement already satisfied: threadpoolctl>=2.0.0 in c:\\users\\chauh\\downloads\\anaconda\\lib\\site-packages (from scikit-learn>=1.0.2->mlxtend) (2.2.0)\n",
      "Requirement already satisfied: six>=1.5 in c:\\users\\chauh\\downloads\\anaconda\\lib\\site-packages (from python-dateutil>=2.7->matplotlib>=3.0.0->mlxtend) (1.16.0)\n",
      "Note: you may need to restart the kernel to use updated packages.\n"
     ]
    }
   ],
   "source": [
    "pip install mlxtend"
   ]
  },
  {
   "cell_type": "code",
   "execution_count": 21,
   "id": "c36f1d9a",
   "metadata": {},
   "outputs": [],
   "source": [
    "from mlxtend.plotting import plot_decision_regions"
   ]
  },
  {
   "cell_type": "code",
   "execution_count": 73,
   "id": "787764f2",
   "metadata": {},
   "outputs": [
    {
     "name": "stdout",
     "output_type": "stream",
     "text": [
      "9600/9600 [==============================] - 19s 2ms/step\n"
     ]
    },
    {
     "data": {
      "text/plain": [
       "<Axes: >"
      ]
     },
     "execution_count": 73,
     "metadata": {},
     "output_type": "execute_result"
    },
    {
     "data": {
      "image/png": "[encoded data removed]",
      "text/plain": [
       "<Figure size 640x480 with 1 Axes>"
      ]
     },
     "metadata": {},
     "output_type": "display_data"
    }
   ],
   "source": [
    "plot_decision_regions(data[[0,1]].values,data[2].values.astype(int),clf=model)"
   ]
  },
  {
   "cell_type": "code",
   "execution_count": null,
   "id": "00f4151c",
   "metadata": {},
   "outputs": [],
   "source": []
  }
 ],
 "metadata": {
  "kernelspec": {
   "display_name": "Python 3 (ipykernel)",
   "language": "python",
   "name": "python3"
  },
  "language_info": {
   "codemirror_mode": {
    "name": "ipython",
    "version": 3
   },
   "file_extension": ".py",
   "mimetype": "text/x-python",
   "name": "python",
   "nbconvert_exporter": "python",
   "pygments_lexer": "ipython3",
   "version": "3.10.9"
  }
 },
 "nbformat": 4,
 "nbformat_minor": 5
}
