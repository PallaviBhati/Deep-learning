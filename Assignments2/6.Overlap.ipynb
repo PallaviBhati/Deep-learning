{
 "cells": [
  {
   "cell_type": "markdown",
   "id": "20e14a2f",
   "metadata": {},
   "source": [
    "### Documentation:\n",
    "#### Data Set: 6.overlap\n",
    "#### Description:The dataset consists of three columns and 100 rows which includes two feature columns and one label column. Features columns are in the form of float and continuous values ranges from [4.900000 to 7.900000] and [2.000000 to 3.800000] and the means are at [6.262000 and 2.872000]. Whereas label is in the form discreate numerical float values that inclueds [0 and 1]. 50% of the data consists of 0 and rest consists of 1 as labels. There are no null values consists in the dataset. Pattern that is formed by the input features is linear separatering. That means a liner line is separating 0 label and 1 label,but some of the labels are overlapping on each other."
   ]
  },
  {
   "cell_type": "markdown",
   "id": "a1928795",
   "metadata": {},
   "source": [
    "### Importing Libraries: The required libraries are imported at the beginning of the code."
   ]
  },
  {
   "cell_type": "code",
   "execution_count": 116,
   "id": "9b0c1937",
   "metadata": {},
   "outputs": [],
   "source": [
    "import pandas as pd\n",
    "import numpy as np\n",
    "import matplotlib.pyplot as plt\n",
    "import seaborn as sns "
   ]
  },
  {
   "cell_type": "markdown",
   "id": "6870817f",
   "metadata": {},
   "source": [
    "### Loading the Dataset:\n",
    "- The code reads a CSV file using Pandas, assuming the file is located at \"C:\\Users\\dell\\Downloads\\Deep Learning data\\6.overlap.csv\". The dataset is stored in the DataFrame df."
   ]
  },
  {
   "cell_type": "code",
   "execution_count": 117,
   "id": "723a03db",
   "metadata": {},
   "outputs": [],
   "source": [
    "df = pd.read_csv(\"C:\\\\Users\\\\dell\\\\Downloads\\\\Deep Learning data\\\\6.overlap.csv\",header = None)\n"
   ]
  },
  {
   "cell_type": "markdown",
   "id": "a59fcd1d",
   "metadata": {},
   "source": [
    "#### The first few rows of the DataFrame are displayed using the head() function."
   ]
  },
  {
   "cell_type": "code",
   "execution_count": 118,
   "id": "72dfaeb1",
   "metadata": {},
   "outputs": [
    {
     "data": {
      "text/html": [
       "<div>\n",
       "<style scoped>\n",
       "    .dataframe tbody tr th:only-of-type {\n",
       "        vertical-align: middle;\n",
       "    }\n",
       "\n",
       "    .dataframe tbody tr th {\n",
       "        vertical-align: top;\n",
       "    }\n",
       "\n",
       "    .dataframe thead th {\n",
       "        text-align: right;\n",
       "    }\n",
       "</style>\n",
       "<table border=\"1\" class=\"dataframe\">\n",
       "  <thead>\n",
       "    <tr style=\"text-align: right;\">\n",
       "      <th></th>\n",
       "      <th>0</th>\n",
       "      <th>1</th>\n",
       "      <th>2</th>\n",
       "    </tr>\n",
       "  </thead>\n",
       "  <tbody>\n",
       "    <tr>\n",
       "      <th>0</th>\n",
       "      <td>7.0</td>\n",
       "      <td>3.2</td>\n",
       "      <td>0</td>\n",
       "    </tr>\n",
       "    <tr>\n",
       "      <th>1</th>\n",
       "      <td>6.4</td>\n",
       "      <td>3.2</td>\n",
       "      <td>0</td>\n",
       "    </tr>\n",
       "    <tr>\n",
       "      <th>2</th>\n",
       "      <td>6.9</td>\n",
       "      <td>3.1</td>\n",
       "      <td>0</td>\n",
       "    </tr>\n",
       "    <tr>\n",
       "      <th>3</th>\n",
       "      <td>5.5</td>\n",
       "      <td>2.3</td>\n",
       "      <td>0</td>\n",
       "    </tr>\n",
       "    <tr>\n",
       "      <th>4</th>\n",
       "      <td>6.5</td>\n",
       "      <td>2.8</td>\n",
       "      <td>0</td>\n",
       "    </tr>\n",
       "  </tbody>\n",
       "</table>\n",
       "</div>"
      ],
      "text/plain": [
       "     0    1  2\n",
       "0  7.0  3.2  0\n",
       "1  6.4  3.2  0\n",
       "2  6.9  3.1  0\n",
       "3  5.5  2.3  0\n",
       "4  6.5  2.8  0"
      ]
     },
     "execution_count": 118,
     "metadata": {},
     "output_type": "execute_result"
    }
   ],
   "source": [
    "df.head()"
   ]
  },
  {
   "cell_type": "markdown",
   "id": "99f8eecc",
   "metadata": {},
   "source": [
    "#### Gives the dimensions of the dataset (number of rows, number of columns).\n"
   ]
  },
  {
   "cell_type": "code",
   "execution_count": 119,
   "id": "b3304928",
   "metadata": {},
   "outputs": [
    {
     "data": {
      "text/plain": [
       "(100, 3)"
      ]
     },
     "execution_count": 119,
     "metadata": {},
     "output_type": "execute_result"
    }
   ],
   "source": [
    "df.shape"
   ]
  },
  {
   "cell_type": "markdown",
   "id": "cfa0a476",
   "metadata": {},
   "source": [
    "#### Provides information about the dataset, including the data types of each column and the number of non-null values."
   ]
  },
  {
   "cell_type": "code",
   "execution_count": 120,
   "id": "d565822e",
   "metadata": {},
   "outputs": [
    {
     "name": "stdout",
     "output_type": "stream",
     "text": [
      "<class 'pandas.core.frame.DataFrame'>\n",
      "RangeIndex: 100 entries, 0 to 99\n",
      "Data columns (total 3 columns):\n",
      " #   Column  Non-Null Count  Dtype  \n",
      "---  ------  --------------  -----  \n",
      " 0   0       100 non-null    float64\n",
      " 1   1       100 non-null    float64\n",
      " 2   2       100 non-null    int64  \n",
      "dtypes: float64(2), int64(1)\n",
      "memory usage: 2.5 KB\n"
     ]
    }
   ],
   "source": [
    "df.info()"
   ]
  },
  {
   "cell_type": "markdown",
   "id": "d9fc9411",
   "metadata": {},
   "source": [
    "#### Generates descriptive statistics of the dataset, such as count, mean, standard deviation, minimum, and maximum values for each numerical column. "
   ]
  },
  {
   "cell_type": "code",
   "execution_count": 121,
   "id": "31aee6ea",
   "metadata": {},
   "outputs": [
    {
     "data": {
      "text/html": [
       "<div>\n",
       "<style scoped>\n",
       "    .dataframe tbody tr th:only-of-type {\n",
       "        vertical-align: middle;\n",
       "    }\n",
       "\n",
       "    .dataframe tbody tr th {\n",
       "        vertical-align: top;\n",
       "    }\n",
       "\n",
       "    .dataframe thead th {\n",
       "        text-align: right;\n",
       "    }\n",
       "</style>\n",
       "<table border=\"1\" class=\"dataframe\">\n",
       "  <thead>\n",
       "    <tr style=\"text-align: right;\">\n",
       "      <th></th>\n",
       "      <th>0</th>\n",
       "      <th>1</th>\n",
       "      <th>2</th>\n",
       "    </tr>\n",
       "  </thead>\n",
       "  <tbody>\n",
       "    <tr>\n",
       "      <th>count</th>\n",
       "      <td>100.000000</td>\n",
       "      <td>100.000000</td>\n",
       "      <td>100.000000</td>\n",
       "    </tr>\n",
       "    <tr>\n",
       "      <th>mean</th>\n",
       "      <td>6.262000</td>\n",
       "      <td>2.872000</td>\n",
       "      <td>0.500000</td>\n",
       "    </tr>\n",
       "    <tr>\n",
       "      <th>std</th>\n",
       "      <td>0.662834</td>\n",
       "      <td>0.332751</td>\n",
       "      <td>0.502519</td>\n",
       "    </tr>\n",
       "    <tr>\n",
       "      <th>min</th>\n",
       "      <td>4.900000</td>\n",
       "      <td>2.000000</td>\n",
       "      <td>0.000000</td>\n",
       "    </tr>\n",
       "    <tr>\n",
       "      <th>25%</th>\n",
       "      <td>5.800000</td>\n",
       "      <td>2.700000</td>\n",
       "      <td>0.000000</td>\n",
       "    </tr>\n",
       "    <tr>\n",
       "      <th>50%</th>\n",
       "      <td>6.300000</td>\n",
       "      <td>2.900000</td>\n",
       "      <td>0.500000</td>\n",
       "    </tr>\n",
       "    <tr>\n",
       "      <th>75%</th>\n",
       "      <td>6.700000</td>\n",
       "      <td>3.025000</td>\n",
       "      <td>1.000000</td>\n",
       "    </tr>\n",
       "    <tr>\n",
       "      <th>max</th>\n",
       "      <td>7.900000</td>\n",
       "      <td>3.800000</td>\n",
       "      <td>1.000000</td>\n",
       "    </tr>\n",
       "  </tbody>\n",
       "</table>\n",
       "</div>"
      ],
      "text/plain": [
       "                0           1           2\n",
       "count  100.000000  100.000000  100.000000\n",
       "mean     6.262000    2.872000    0.500000\n",
       "std      0.662834    0.332751    0.502519\n",
       "min      4.900000    2.000000    0.000000\n",
       "25%      5.800000    2.700000    0.000000\n",
       "50%      6.300000    2.900000    0.500000\n",
       "75%      6.700000    3.025000    1.000000\n",
       "max      7.900000    3.800000    1.000000"
      ]
     },
     "execution_count": 121,
     "metadata": {},
     "output_type": "execute_result"
    }
   ],
   "source": [
    "df.describe()"
   ]
  },
  {
   "cell_type": "code",
   "execution_count": 122,
   "id": "b7fca5c7",
   "metadata": {},
   "outputs": [
    {
     "data": {
      "text/plain": [
       "0    0\n",
       "1    0\n",
       "2    0\n",
       "dtype: int64"
      ]
     },
     "execution_count": 122,
     "metadata": {},
     "output_type": "execute_result"
    }
   ],
   "source": [
    "df.isna().sum()"
   ]
  },
  {
   "cell_type": "code",
   "execution_count": 126,
   "id": "614078f3",
   "metadata": {},
   "outputs": [
    {
     "data": {
      "text/plain": [
       "12"
      ]
     },
     "execution_count": 126,
     "metadata": {},
     "output_type": "execute_result"
    }
   ],
   "source": [
    "df.duplicated().sum()"
   ]
  },
  {
   "cell_type": "code",
   "execution_count": 127,
   "id": "faab3ef2",
   "metadata": {},
   "outputs": [
    {
     "name": "stdout",
     "output_type": "stream",
     "text": [
      "12\n"
     ]
    }
   ],
   "source": [
    "print(df.duplicated().sum())\n",
    "\n",
    "df.drop_duplicates(inplace=True)"
   ]
  },
  {
   "cell_type": "code",
   "execution_count": 129,
   "id": "cd1bda36",
   "metadata": {},
   "outputs": [
    {
     "name": "stdout",
     "output_type": "stream",
     "text": [
      "0\n"
     ]
    }
   ],
   "source": [
    "print(df.duplicated().sum())\n"
   ]
  },
  {
   "cell_type": "markdown",
   "id": "ec2fcfa5",
   "metadata": {},
   "source": [
    "### Data Visualization:\n",
    "-  A scatter plot is created using Seaborn to visualize the data points, where the x-axis represents df[0], the y-axis represents df[1], and the color of the points is determined by df[2]"
   ]
  },
  {
   "cell_type": "code",
   "execution_count": 131,
   "id": "6b51b7ba",
   "metadata": {},
   "outputs": [
    {
     "name": "stderr",
     "output_type": "stream",
     "text": [
      "C:\\Users\\dell\\anaconda3\\lib\\site-packages\\seaborn\\_decorators.py:36: FutureWarning: Pass the following variables as keyword args: x, y. From version 0.12, the only valid positional argument will be `data`, and passing other arguments without an explicit keyword will result in an error or misinterpretation.\n",
      "  warnings.warn(\n"
     ]
    },
    {
     "data": {
      "text/plain": [
       "<AxesSubplot:xlabel='0', ylabel='1'>"
      ]
     },
     "execution_count": 131,
     "metadata": {},
     "output_type": "execute_result"
    },
    {
     "data": {
      "image/png": "[encoded data removed]",
      "text/plain": [
       "<Figure size 432x288 with 1 Axes>"
      ]
     },
     "metadata": {
      "needs_background": "light"
     },
     "output_type": "display_data"
    }
   ],
   "source": [
    "sns.scatterplot(df[0],df[1],hue = df[2])"
   ]
  },
  {
   "cell_type": "markdown",
   "id": "df2bf8f2",
   "metadata": {},
   "source": [
    "### Train-Test Split:\n",
    "- The dataset is split into training and testing sets using the train_test_split function from scikit-learn. The features (x_train, x_test) consist of columns 0 and 1 from the DataFrame, while the target variables (y_train, y_test) correspond to column 2. The testing set size is set to 10% of the total dataset."
   ]
  },
  {
   "cell_type": "code",
   "execution_count": 133,
   "id": "ba02a855",
   "metadata": {},
   "outputs": [],
   "source": [
    "from sklearn.model_selection import train_test_split\n",
    "X_train,X_test,y_train,y_test=train_test_split(df[[0,1]],df[2],test_size=0.1)"
   ]
  },
  {
   "cell_type": "markdown",
   "id": "4039e40a",
   "metadata": {},
   "source": [
    "### Data Preprocessing:\n",
    "- The features are standardized using scikit-learn's StandardScaler. The fit_transform method is applied to the training set (x_train), and the transform method is applied to the testing set (x_test).\n"
   ]
  },
  {
   "cell_type": "code",
   "execution_count": 134,
   "id": "e2f169ee",
   "metadata": {},
   "outputs": [],
   "source": [
    "from sklearn.preprocessing import StandardScaler\n",
    "std=StandardScaler()\n",
    "X_trains =std.fit_transform(X_train)\n",
    "X_tests =std.transform(X_test)"
   ]
  },
  {
   "cell_type": "markdown",
   "id": "788838e8",
   "metadata": {},
   "source": [
    "### Neural Network Model:\n",
    "- A sequential model is created using Keras from TensorFlow. It consists of three dense layers, with the first two layers having a \"tanh\" activation function, dropout layers with a dropout rate of 0.2 after each dense layer, and the last layer having a sigmoid activation function. The model architecture is summarized using the summary() method."
   ]
  },
  {
   "cell_type": "code",
   "execution_count": 135,
   "id": "c47ff46b",
   "metadata": {},
   "outputs": [],
   "source": [
    "import tensorflow\n",
    "from tensorflow import keras\n",
    "from keras.models import Sequential\n",
    "from keras.layers import Dense,Dropout"
   ]
  },
  {
   "cell_type": "code",
   "execution_count": 136,
   "id": "227d9f30",
   "metadata": {},
   "outputs": [],
   "source": [
    "model=Sequential()\n",
    "model.add(Dense(3,activation=\"tanh\",kernel_initializer='random_uniform',input_dim=2))\n",
    "model.add(Dropout(0.2))\n",
    "model.add(Dense(2,activation=\"tanh\",kernel_initializer='random_uniform'))\n",
    "model.add(Dropout(0.2))\n",
    "model.add(Dense(1,activation=\"sigmoid\"))"
   ]
  },
  {
   "cell_type": "code",
   "execution_count": 149,
   "id": "a6430ad2",
   "metadata": {},
   "outputs": [
    {
     "data": {
      "text/plain": [
       "[array([[-0.32879168, -0.30022523,  0.28512633],\n",
       "        [-0.22171918, -0.19725625,  0.20864868]], dtype=float32),\n",
       " array([-1.0702061e-06, -7.6414780e-03,  2.1708503e-02], dtype=float32),\n",
       " array([[-0.29451305,  0.24831755],\n",
       "        [-0.3025592 ,  0.2631276 ],\n",
       "        [ 0.33361194, -0.24895681]], dtype=float32),\n",
       " array([ 0.01197835, -0.00510345], dtype=float32),\n",
       " array([[ 0.895319 ],\n",
       "        [-1.1486458]], dtype=float32),\n",
       " array([0.0021167], dtype=float32)]"
      ]
     },
     "execution_count": 149,
     "metadata": {},
     "output_type": "execute_result"
    }
   ],
   "source": [
    "model.get_weights()"
   ]
  },
  {
   "cell_type": "code",
   "execution_count": 138,
   "id": "87a5cecc",
   "metadata": {},
   "outputs": [
    {
     "name": "stdout",
     "output_type": "stream",
     "text": [
      "Model: \"sequential_6\"\n",
      "_________________________________________________________________\n",
      " Layer (type)                Output Shape              Param #   \n",
      "=================================================================\n",
      " dense_20 (Dense)            (None, 3)                 9         \n",
      "                                                                 \n",
      " dropout_6 (Dropout)         (None, 3)                 0         \n",
      "                                                                 \n",
      " dense_21 (Dense)            (None, 2)                 8         \n",
      "                                                                 \n",
      " dropout_7 (Dropout)         (None, 2)                 0         \n",
      "                                                                 \n",
      " dense_22 (Dense)            (None, 1)                 3         \n",
      "                                                                 \n",
      "=================================================================\n",
      "Total params: 20\n",
      "Trainable params: 20\n",
      "Non-trainable params: 0\n",
      "_________________________________________________________________\n"
     ]
    }
   ],
   "source": [
    "model.summary()"
   ]
  },
  {
   "cell_type": "markdown",
   "id": "9a73e780",
   "metadata": {},
   "source": [
    "### Model Compilation and Training: \n",
    "- The model is compiled with the Adam optimizer, binary cross-entropy loss function, and accuracy metric. It is then trained on the preprocessed training data (x_trainf, y_train) for 50 epochs with a batch size of 10. The validation split is set to 0.2, meaning 20% of the training data is used for validation during training. The training history is stored in the history variable."
   ]
  },
  {
   "cell_type": "code",
   "execution_count": 139,
   "id": "5c4d7620",
   "metadata": {},
   "outputs": [],
   "source": [
    "model.compile(optimizer=\"Adam\",loss=\"binary_crossentropy\",metrics=[\"accuracy\"])"
   ]
  },
  {
   "cell_type": "code",
   "execution_count": 140,
   "id": "a84a602c",
   "metadata": {},
   "outputs": [
    {
     "name": "stdout",
     "output_type": "stream",
     "text": [
      "Epoch 1/50\n",
      "7/7 [==============================] - 1s 32ms/step - loss: 0.6935 - accuracy: 0.4127 - val_loss: 0.6931 - val_accuracy: 0.5000\n",
      "Epoch 2/50\n",
      "7/7 [==============================] - 0s 6ms/step - loss: 0.6933 - accuracy: 0.5079 - val_loss: 0.6930 - val_accuracy: 0.5000\n",
      "Epoch 3/50\n",
      "7/7 [==============================] - 0s 6ms/step - loss: 0.6932 - accuracy: 0.5397 - val_loss: 0.6929 - val_accuracy: 0.5000\n",
      "Epoch 4/50\n",
      "7/7 [==============================] - 0s 6ms/step - loss: 0.6928 - accuracy: 0.5556 - val_loss: 0.6927 - val_accuracy: 0.6250\n",
      "Epoch 5/50\n",
      "7/7 [==============================] - 0s 7ms/step - loss: 0.6929 - accuracy: 0.5238 - val_loss: 0.6924 - val_accuracy: 0.5625\n",
      "Epoch 6/50\n",
      "7/7 [==============================] - 0s 7ms/step - loss: 0.6924 - accuracy: 0.5397 - val_loss: 0.6921 - val_accuracy: 0.5625\n",
      "Epoch 7/50\n",
      "7/7 [==============================] - 0s 7ms/step - loss: 0.6918 - accuracy: 0.5556 - val_loss: 0.6915 - val_accuracy: 0.6250\n",
      "Epoch 8/50\n",
      "7/7 [==============================] - 0s 6ms/step - loss: 0.6913 - accuracy: 0.5873 - val_loss: 0.6906 - val_accuracy: 0.6250\n",
      "Epoch 9/50\n",
      "7/7 [==============================] - 0s 6ms/step - loss: 0.6913 - accuracy: 0.5556 - val_loss: 0.6896 - val_accuracy: 0.6250\n",
      "Epoch 10/50\n",
      "7/7 [==============================] - 0s 6ms/step - loss: 0.6895 - accuracy: 0.5873 - val_loss: 0.6881 - val_accuracy: 0.6250\n",
      "Epoch 11/50\n",
      "7/7 [==============================] - 0s 6ms/step - loss: 0.6876 - accuracy: 0.6190 - val_loss: 0.6863 - val_accuracy: 0.6875\n",
      "Epoch 12/50\n",
      "7/7 [==============================] - 0s 8ms/step - loss: 0.6874 - accuracy: 0.6508 - val_loss: 0.6840 - val_accuracy: 0.6875\n",
      "Epoch 13/50\n",
      "7/7 [==============================] - 0s 7ms/step - loss: 0.6874 - accuracy: 0.6825 - val_loss: 0.6818 - val_accuracy: 0.6875\n",
      "Epoch 14/50\n",
      "7/7 [==============================] - 0s 8ms/step - loss: 0.6820 - accuracy: 0.6984 - val_loss: 0.6792 - val_accuracy: 0.6875\n",
      "Epoch 15/50\n",
      "7/7 [==============================] - 0s 6ms/step - loss: 0.6839 - accuracy: 0.6984 - val_loss: 0.6767 - val_accuracy: 0.6875\n",
      "Epoch 16/50\n",
      "7/7 [==============================] - 0s 7ms/step - loss: 0.6781 - accuracy: 0.6508 - val_loss: 0.6741 - val_accuracy: 0.6875\n",
      "Epoch 17/50\n",
      "7/7 [==============================] - 0s 6ms/step - loss: 0.6760 - accuracy: 0.6349 - val_loss: 0.6713 - val_accuracy: 0.6875\n",
      "Epoch 18/50\n",
      "7/7 [==============================] - 0s 7ms/step - loss: 0.6718 - accuracy: 0.6825 - val_loss: 0.6685 - val_accuracy: 0.6875\n",
      "Epoch 19/50\n",
      "7/7 [==============================] - 0s 6ms/step - loss: 0.6716 - accuracy: 0.6349 - val_loss: 0.6652 - val_accuracy: 0.6875\n",
      "Epoch 20/50\n",
      "7/7 [==============================] - 0s 7ms/step - loss: 0.6623 - accuracy: 0.6984 - val_loss: 0.6614 - val_accuracy: 0.6875\n",
      "Epoch 21/50\n",
      "7/7 [==============================] - 0s 8ms/step - loss: 0.6592 - accuracy: 0.6349 - val_loss: 0.6582 - val_accuracy: 0.6875\n",
      "Epoch 22/50\n",
      "7/7 [==============================] - 0s 7ms/step - loss: 0.6611 - accuracy: 0.6667 - val_loss: 0.6548 - val_accuracy: 0.6875\n",
      "Epoch 23/50\n",
      "7/7 [==============================] - 0s 8ms/step - loss: 0.6536 - accuracy: 0.6825 - val_loss: 0.6512 - val_accuracy: 0.6875\n",
      "Epoch 24/50\n",
      "7/7 [==============================] - 0s 6ms/step - loss: 0.6616 - accuracy: 0.6349 - val_loss: 0.6475 - val_accuracy: 0.6875\n",
      "Epoch 25/50\n",
      "7/7 [==============================] - 0s 7ms/step - loss: 0.6554 - accuracy: 0.6667 - val_loss: 0.6439 - val_accuracy: 0.6875\n",
      "Epoch 26/50\n",
      "7/7 [==============================] - 0s 8ms/step - loss: 0.6499 - accuracy: 0.6667 - val_loss: 0.6398 - val_accuracy: 0.6875\n",
      "Epoch 27/50\n",
      "7/7 [==============================] - 0s 8ms/step - loss: 0.6355 - accuracy: 0.6667 - val_loss: 0.6365 - val_accuracy: 0.6250\n",
      "Epoch 28/50\n",
      "7/7 [==============================] - 0s 7ms/step - loss: 0.6423 - accuracy: 0.6032 - val_loss: 0.6330 - val_accuracy: 0.6250\n",
      "Epoch 29/50\n",
      "7/7 [==============================] - 0s 6ms/step - loss: 0.6349 - accuracy: 0.6825 - val_loss: 0.6294 - val_accuracy: 0.6250\n",
      "Epoch 30/50\n",
      "7/7 [==============================] - 0s 7ms/step - loss: 0.6543 - accuracy: 0.6349 - val_loss: 0.6262 - val_accuracy: 0.6250\n",
      "Epoch 31/50\n",
      "7/7 [==============================] - 0s 7ms/step - loss: 0.6470 - accuracy: 0.6508 - val_loss: 0.6237 - val_accuracy: 0.6250\n",
      "Epoch 32/50\n",
      "7/7 [==============================] - 0s 6ms/step - loss: 0.6425 - accuracy: 0.6508 - val_loss: 0.6207 - val_accuracy: 0.6250\n",
      "Epoch 33/50\n",
      "7/7 [==============================] - 0s 6ms/step - loss: 0.6342 - accuracy: 0.6667 - val_loss: 0.6176 - val_accuracy: 0.6875\n",
      "Epoch 34/50\n",
      "7/7 [==============================] - 0s 6ms/step - loss: 0.6329 - accuracy: 0.6508 - val_loss: 0.6146 - val_accuracy: 0.6875\n",
      "Epoch 35/50\n",
      "7/7 [==============================] - 0s 6ms/step - loss: 0.6376 - accuracy: 0.6667 - val_loss: 0.6121 - val_accuracy: 0.6250\n",
      "Epoch 36/50\n",
      "7/7 [==============================] - 0s 6ms/step - loss: 0.6428 - accuracy: 0.6032 - val_loss: 0.6094 - val_accuracy: 0.6250\n",
      "Epoch 37/50\n",
      "7/7 [==============================] - 0s 6ms/step - loss: 0.6264 - accuracy: 0.6825 - val_loss: 0.6067 - val_accuracy: 0.6250\n",
      "Epoch 38/50\n",
      "7/7 [==============================] - 0s 5ms/step - loss: 0.6252 - accuracy: 0.6667 - val_loss: 0.6043 - val_accuracy: 0.6250\n",
      "Epoch 39/50\n",
      "7/7 [==============================] - 0s 6ms/step - loss: 0.5998 - accuracy: 0.6190 - val_loss: 0.6010 - val_accuracy: 0.6250\n",
      "Epoch 40/50\n",
      "7/7 [==============================] - 0s 6ms/step - loss: 0.6092 - accuracy: 0.6508 - val_loss: 0.5979 - val_accuracy: 0.6250\n",
      "Epoch 41/50\n",
      "7/7 [==============================] - 0s 6ms/step - loss: 0.6271 - accuracy: 0.6349 - val_loss: 0.5951 - val_accuracy: 0.6250\n",
      "Epoch 42/50\n",
      "7/7 [==============================] - 0s 6ms/step - loss: 0.6275 - accuracy: 0.6032 - val_loss: 0.5930 - val_accuracy: 0.6250\n",
      "Epoch 43/50\n",
      "7/7 [==============================] - 0s 6ms/step - loss: 0.6175 - accuracy: 0.6349 - val_loss: 0.5910 - val_accuracy: 0.6250\n",
      "Epoch 44/50\n",
      "7/7 [==============================] - 0s 6ms/step - loss: 0.6096 - accuracy: 0.6508 - val_loss: 0.5894 - val_accuracy: 0.6250\n",
      "Epoch 45/50\n",
      "7/7 [==============================] - 0s 7ms/step - loss: 0.6257 - accuracy: 0.6349 - val_loss: 0.5876 - val_accuracy: 0.6250\n",
      "Epoch 46/50\n",
      "7/7 [==============================] - 0s 7ms/step - loss: 0.6265 - accuracy: 0.6349 - val_loss: 0.5870 - val_accuracy: 0.6250\n",
      "Epoch 47/50\n",
      "7/7 [==============================] - 0s 7ms/step - loss: 0.5953 - accuracy: 0.6667 - val_loss: 0.5855 - val_accuracy: 0.6250\n",
      "Epoch 48/50\n",
      "7/7 [==============================] - 0s 6ms/step - loss: 0.6057 - accuracy: 0.6825 - val_loss: 0.5838 - val_accuracy: 0.6250\n",
      "Epoch 49/50\n",
      "7/7 [==============================] - 0s 7ms/step - loss: 0.6013 - accuracy: 0.6667 - val_loss: 0.5817 - val_accuracy: 0.6250\n",
      "Epoch 50/50\n",
      "7/7 [==============================] - 0s 6ms/step - loss: 0.5886 - accuracy: 0.6667 - val_loss: 0.5796 - val_accuracy: 0.6250\n"
     ]
    }
   ],
   "source": [
    "history=model.fit(X_trains,y_train,batch_size=10,epochs=50,validation_split=0.2)"
   ]
  },
  {
   "cell_type": "markdown",
   "id": "e652b61b",
   "metadata": {},
   "source": [
    "### Prediction and Evaluation:\n",
    "- The model is used to predict the target values for the preprocessed testing data (x_testf). The predictions are then thresholded at 0.5 to obtain binary predictions (y_capf). The accuracy score is calculated by comparing these predictions with the actual target values (y_test)."
   ]
  },
  {
   "cell_type": "code",
   "execution_count": 141,
   "id": "44f2e4e0",
   "metadata": {},
   "outputs": [],
   "source": [
    "from mlxtend.plotting import plot_decision_regions as pt"
   ]
  },
  {
   "cell_type": "code",
   "execution_count": 142,
   "id": "1dd7840e",
   "metadata": {},
   "outputs": [
    {
     "data": {
      "image/png": "[encoded data removed]",
      "text/plain": [
       "<Figure size 432x288 with 1 Axes>"
      ]
     },
     "metadata": {
      "needs_background": "light"
     },
     "output_type": "display_data"
    }
   ],
   "source": [
    "#plt.figure(figsize=(4,4),dpi=150)\n",
    "pt(X_trains,y_train.values.astype(int),clf=model)\n",
    "plt.title(\"X_train Decision regions\",color='black',fontsize='medium')\n",
    "plt.xlabel(\"X_train\",color='black',fontsize='medium')\n",
    "plt.ylabel(\"y_train\",color='black',fontsize='medium')\n",
    "plt.show()"
   ]
  },
  {
   "cell_type": "code",
   "execution_count": 143,
   "id": "040e96b9",
   "metadata": {},
   "outputs": [],
   "source": [
    "y_pred=model.predict(X_tests)"
   ]
  },
  {
   "cell_type": "code",
   "execution_count": 144,
   "id": "f79dbfde",
   "metadata": {},
   "outputs": [],
   "source": [
    "y_predf = np.array([1 if x>0.5 else 0 for x in y_pred])"
   ]
  },
  {
   "cell_type": "code",
   "execution_count": 145,
   "id": "6f3c01ec",
   "metadata": {},
   "outputs": [
    {
     "data": {
      "text/plain": [
       "0.7777777777777778"
      ]
     },
     "execution_count": 145,
     "metadata": {},
     "output_type": "execute_result"
    }
   ],
   "source": [
    "from sklearn.metrics import accuracy_score\n",
    "accuracy_score(y_test,y_predf)"
   ]
  },
  {
   "cell_type": "markdown",
   "id": "38ae96c1",
   "metadata": {},
   "source": [
    "### Plotting Loss Curves:\n",
    "- The training and validation loss curves are plotted using Matplotlib based on the history object obtained during training."
   ]
  },
  {
   "cell_type": "code",
   "execution_count": 146,
   "id": "18577548",
   "metadata": {},
   "outputs": [
    {
     "data": {
      "text/plain": [
       "[<matplotlib.lines.Line2D at 0x2532afd5310>]"
      ]
     },
     "execution_count": 146,
     "metadata": {},
     "output_type": "execute_result"
    },
    {
     "data": {
      "image/png": "[encoded data removed]",
      "text/plain": [
       "<Figure size 432x288 with 1 Axes>"
      ]
     },
     "metadata": {
      "needs_background": "light"
     },
     "output_type": "display_data"
    }
   ],
   "source": [
    "plt.plot(history.history['loss'])\n",
    "plt.plot(history.history['val_loss'])"
   ]
  },
  {
   "cell_type": "markdown",
   "id": "7e93e1b7",
   "metadata": {},
   "source": [
    "### Decision Regions Plot:\n",
    "- The plot_decision_regions function from the mlxtend library is used to plot the decision regions of the model. It takes the feature values (df[[0, 1]].values) and the corresponding target values (df[2].values.astype(int)) from the entire dataset as input. The decision regions are visualized by coloring the regions based on the model's predictions."
   ]
  },
  {
   "cell_type": "markdown",
   "id": "09a21041",
   "metadata": {},
   "source": [
    "### Plotting Decision Regions for Testing Set:\n",
    "- Similar to the previous step, decision regions are plotted for the preprocessed testing set (x_testf, y_test.values.astype(int)).\n"
   ]
  },
  {
   "cell_type": "code",
   "execution_count": 148,
   "id": "6ea56247",
   "metadata": {},
   "outputs": [
    {
     "data": {
      "image/png": "[encoded data removed]",
      "text/plain": [
       "<Figure size 432x288 with 1 Axes>"
      ]
     },
     "metadata": {
      "needs_background": "light"
     },
     "output_type": "display_data"
    }
   ],
   "source": [
    "#plt.figure(figsize=(6,4),dpi=150)\n",
    "pt(X_tests.astype(int),y_predf,clf=model)\n",
    "plt.title(\"X_test Decision regions\")\n",
    "plt.xlabel(\"X_test\")\n",
    "plt.ylabel(\"y_test\")\n",
    "plt.show()"
   ]
  },
  {
   "cell_type": "code",
   "execution_count": null,
   "id": "b4d367b6",
   "metadata": {},
   "outputs": [],
   "source": []
  },
  {
   "cell_type": "code",
   "execution_count": null,
   "id": "ab8a8c0f",
   "metadata": {},
   "outputs": [],
   "source": []
  },
  {
   "cell_type": "code",
   "execution_count": 105,
   "id": "63b8ef17",
   "metadata": {},
   "outputs": [
    {
     "name": "stderr",
     "output_type": "stream",
     "text": [
      "C:\\Users\\dell\\anaconda3\\lib\\site-packages\\mlxtend\\plotting\\decision_regions.py:315: UserWarning: No contour levels were found within the data range.\n",
      "  ax.contour(xx, yy, Z, cset.levels, **contour_kwargs)\n"
     ]
    },
    {
     "data": {
      "text/plain": [
       "<AxesSubplot:>"
      ]
     },
     "execution_count": 105,
     "metadata": {},
     "output_type": "execute_result"
    },
    {
     "data": {
      "image/png": "[encoded data removed]",
      "text/plain": [
       "<Figure size 432x288 with 1 Axes>"
      ]
     },
     "metadata": {
      "needs_background": "light"
     },
     "output_type": "display_data"
    }
   ],
   "source": [
    "plot_decision_regions(df[[0,1]].values,df[2].values.astype(int),clf=model)"
   ]
  },
  {
   "cell_type": "markdown",
   "id": "ca5b4fbd",
   "metadata": {},
   "source": [
    "### This code demonstrates the process of loading data, visualizing it, training a neural network model, evaluating its performance, and visualizing the decision regions."
   ]
  },
  {
   "cell_type": "code",
   "execution_count": null,
   "id": "792e739e",
   "metadata": {},
   "outputs": [],
   "source": []
  }
 ],
 "metadata": {
  "kernelspec": {
   "display_name": "Python 3 (ipykernel)",
   "language": "python",
   "name": "python3"
  },
  "language_info": {
   "codemirror_mode": {
    "name": "ipython",
    "version": 3
   },
   "file_extension": ".py",
   "mimetype": "text/x-python",
   "name": "python",
   "nbconvert_exporter": "python",
   "pygments_lexer": "ipython3",
   "version": "3.10.9"
  }
 },
 "nbformat": 4,
 "nbformat_minor": 5
}
