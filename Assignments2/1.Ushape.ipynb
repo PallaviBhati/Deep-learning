{
 "cells": [
  {
   "cell_type": "markdown",
   "id": "886007a0",
   "metadata": {},
   "source": [
    "### Documentation:\n",
    "#### Data Set:5.outlier\n",
    "\n",
    "\n",
    "### Data Description:\n",
    "The dataset consists of three columns and 500 rows which includes two feature columns and one label column.\n",
    "Features columns are in the form of float and continuous values ranges from [-1.318500 to 2.181372] and [-3.046143 to 2.759355] and the means are at [-0.065366 and -0.025148].\n",
    "Whereas label is in the form discrete numerical float values that inclueds [0.0 and 1.0]. 50% of the data consists of 0 and rest consists of 1 as labels.\n",
    "There are zero duplicates and no null values consists in the dataset.\n",
    "Pattern that is formed by the input features is linear separatering. That means a liner line is separating 0 label and 1 label."
   ]
  },
  {
   "cell_type": "markdown",
   "id": "da453538",
   "metadata": {},
   "source": [
    "### Importing Libraries: The required libraries are imported at the beginning of the code."
   ]
  },
  {
   "cell_type": "code",
   "execution_count": 67,
   "id": "1ba51c5f",
   "metadata": {},
   "outputs": [],
   "source": [
    "import pandas as pd\n",
    "import numpy as np\n",
    "import matplotlib.pyplot as plt\n",
    "import seaborn as sns"
   ]
  },
  {
   "cell_type": "markdown",
   "id": "ab0b9912",
   "metadata": {},
   "source": [
    "### Loading the Dataset:\n",
    "The code reads a CSV file using Pandas, assuming the file is located at\"C:\\\\Users\\\\dell\\\\Downloads\\\\1.ushape.csv\". The dataset is stored in the DataFrame df."
   ]
  },
  {
   "cell_type": "code",
   "execution_count": 68,
   "id": "a770f2be",
   "metadata": {},
   "outputs": [
    {
     "data": {
      "text/html": [
       "<div>\n",
       "<style scoped>\n",
       "    .dataframe tbody tr th:only-of-type {\n",
       "        vertical-align: middle;\n",
       "    }\n",
       "\n",
       "    .dataframe tbody tr th {\n",
       "        vertical-align: top;\n",
       "    }\n",
       "\n",
       "    .dataframe thead th {\n",
       "        text-align: right;\n",
       "    }\n",
       "</style>\n",
       "<table border=\"1\" class=\"dataframe\">\n",
       "  <thead>\n",
       "    <tr style=\"text-align: right;\">\n",
       "      <th></th>\n",
       "      <th>0</th>\n",
       "      <th>1</th>\n",
       "      <th>2</th>\n",
       "    </tr>\n",
       "  </thead>\n",
       "  <tbody>\n",
       "    <tr>\n",
       "      <th>0</th>\n",
       "      <td>0.031595</td>\n",
       "      <td>0.986988</td>\n",
       "      <td>0.0</td>\n",
       "    </tr>\n",
       "    <tr>\n",
       "      <th>1</th>\n",
       "      <td>2.115098</td>\n",
       "      <td>-0.046244</td>\n",
       "      <td>1.0</td>\n",
       "    </tr>\n",
       "    <tr>\n",
       "      <th>2</th>\n",
       "      <td>0.882490</td>\n",
       "      <td>-0.075756</td>\n",
       "      <td>0.0</td>\n",
       "    </tr>\n",
       "    <tr>\n",
       "      <th>3</th>\n",
       "      <td>-0.055144</td>\n",
       "      <td>-0.037332</td>\n",
       "      <td>1.0</td>\n",
       "    </tr>\n",
       "    <tr>\n",
       "      <th>4</th>\n",
       "      <td>0.829545</td>\n",
       "      <td>-0.539321</td>\n",
       "      <td>1.0</td>\n",
       "    </tr>\n",
       "  </tbody>\n",
       "</table>\n",
       "</div>"
      ],
      "text/plain": [
       "          0         1    2\n",
       "0  0.031595  0.986988  0.0\n",
       "1  2.115098 -0.046244  1.0\n",
       "2  0.882490 -0.075756  0.0\n",
       "3 -0.055144 -0.037332  1.0\n",
       "4  0.829545 -0.539321  1.0"
      ]
     },
     "execution_count": 68,
     "metadata": {},
     "output_type": "execute_result"
    }
   ],
   "source": [
    "df = pd.read_csv(\"C:\\\\Users\\\\dell\\\\Downloads\\\\1.ushape.csv\",header = None)\n",
    "df.head()"
   ]
  },
  {
   "cell_type": "markdown",
   "id": "87f1ab15",
   "metadata": {},
   "source": [
    "#### Gives the dimensions of the dataset (number of rows, number of columns).\n"
   ]
  },
  {
   "cell_type": "code",
   "execution_count": 69,
   "id": "20d317fc",
   "metadata": {},
   "outputs": [
    {
     "data": {
      "text/plain": [
       "(100, 3)"
      ]
     },
     "execution_count": 69,
     "metadata": {},
     "output_type": "execute_result"
    }
   ],
   "source": [
    "df.shape"
   ]
  },
  {
   "cell_type": "code",
   "execution_count": 70,
   "id": "d7327be7",
   "metadata": {},
   "outputs": [
    {
     "data": {
      "text/html": [
       "<div>\n",
       "<style scoped>\n",
       "    .dataframe tbody tr th:only-of-type {\n",
       "        vertical-align: middle;\n",
       "    }\n",
       "\n",
       "    .dataframe tbody tr th {\n",
       "        vertical-align: top;\n",
       "    }\n",
       "\n",
       "    .dataframe thead th {\n",
       "        text-align: right;\n",
       "    }\n",
       "</style>\n",
       "<table border=\"1\" class=\"dataframe\">\n",
       "  <thead>\n",
       "    <tr style=\"text-align: right;\">\n",
       "      <th></th>\n",
       "      <th>0</th>\n",
       "      <th>1</th>\n",
       "    </tr>\n",
       "  </thead>\n",
       "  <tbody>\n",
       "    <tr>\n",
       "      <th>0</th>\n",
       "      <td>0.031595</td>\n",
       "      <td>0.986988</td>\n",
       "    </tr>\n",
       "    <tr>\n",
       "      <th>1</th>\n",
       "      <td>2.115098</td>\n",
       "      <td>-0.046244</td>\n",
       "    </tr>\n",
       "    <tr>\n",
       "      <th>2</th>\n",
       "      <td>0.882490</td>\n",
       "      <td>-0.075756</td>\n",
       "    </tr>\n",
       "    <tr>\n",
       "      <th>3</th>\n",
       "      <td>-0.055144</td>\n",
       "      <td>-0.037332</td>\n",
       "    </tr>\n",
       "    <tr>\n",
       "      <th>4</th>\n",
       "      <td>0.829545</td>\n",
       "      <td>-0.539321</td>\n",
       "    </tr>\n",
       "    <tr>\n",
       "      <th>...</th>\n",
       "      <td>...</td>\n",
       "      <td>...</td>\n",
       "    </tr>\n",
       "    <tr>\n",
       "      <th>95</th>\n",
       "      <td>1.699453</td>\n",
       "      <td>0.587720</td>\n",
       "    </tr>\n",
       "    <tr>\n",
       "      <th>96</th>\n",
       "      <td>0.218623</td>\n",
       "      <td>-0.652521</td>\n",
       "    </tr>\n",
       "    <tr>\n",
       "      <th>97</th>\n",
       "      <td>0.952914</td>\n",
       "      <td>-0.419766</td>\n",
       "    </tr>\n",
       "    <tr>\n",
       "      <th>98</th>\n",
       "      <td>-1.318500</td>\n",
       "      <td>0.423112</td>\n",
       "    </tr>\n",
       "    <tr>\n",
       "      <th>99</th>\n",
       "      <td>-1.296818</td>\n",
       "      <td>0.184147</td>\n",
       "    </tr>\n",
       "  </tbody>\n",
       "</table>\n",
       "<p>100 rows × 2 columns</p>\n",
       "</div>"
      ],
      "text/plain": [
       "           0         1\n",
       "0   0.031595  0.986988\n",
       "1   2.115098 -0.046244\n",
       "2   0.882490 -0.075756\n",
       "3  -0.055144 -0.037332\n",
       "4   0.829545 -0.539321\n",
       "..       ...       ...\n",
       "95  1.699453  0.587720\n",
       "96  0.218623 -0.652521\n",
       "97  0.952914 -0.419766\n",
       "98 -1.318500  0.423112\n",
       "99 -1.296818  0.184147\n",
       "\n",
       "[100 rows x 2 columns]"
      ]
     },
     "execution_count": 70,
     "metadata": {},
     "output_type": "execute_result"
    }
   ],
   "source": [
    "df[[0,1]]\n"
   ]
  },
  {
   "cell_type": "markdown",
   "id": "d2f49424",
   "metadata": {},
   "source": [
    "#### Provides information about the dataset, including the data types of each column and the number of non-null values.\n"
   ]
  },
  {
   "cell_type": "code",
   "execution_count": 7,
   "id": "792d827a",
   "metadata": {},
   "outputs": [
    {
     "name": "stdout",
     "output_type": "stream",
     "text": [
      "<class 'pandas.core.frame.DataFrame'>\n",
      "RangeIndex: 100 entries, 0 to 99\n",
      "Data columns (total 3 columns):\n",
      " #   Column  Non-Null Count  Dtype  \n",
      "---  ------  --------------  -----  \n",
      " 0   0       100 non-null    float64\n",
      " 1   1       100 non-null    float64\n",
      " 2   2       100 non-null    float64\n",
      "dtypes: float64(3)\n",
      "memory usage: 2.5 KB\n"
     ]
    }
   ],
   "source": [
    "df.info()"
   ]
  },
  {
   "cell_type": "markdown",
   "id": "4da5eed5",
   "metadata": {},
   "source": [
    "#### Generates descriptive statistics of the dataset, such as count, mean, standard deviation, minimum, and maximum values for each numerical column. "
   ]
  },
  {
   "cell_type": "code",
   "execution_count": 71,
   "id": "588764c2",
   "metadata": {},
   "outputs": [
    {
     "data": {
      "text/html": [
       "<div>\n",
       "<style scoped>\n",
       "    .dataframe tbody tr th:only-of-type {\n",
       "        vertical-align: middle;\n",
       "    }\n",
       "\n",
       "    .dataframe tbody tr th {\n",
       "        vertical-align: top;\n",
       "    }\n",
       "\n",
       "    .dataframe thead th {\n",
       "        text-align: right;\n",
       "    }\n",
       "</style>\n",
       "<table border=\"1\" class=\"dataframe\">\n",
       "  <thead>\n",
       "    <tr style=\"text-align: right;\">\n",
       "      <th></th>\n",
       "      <th>0</th>\n",
       "      <th>1</th>\n",
       "      <th>2</th>\n",
       "    </tr>\n",
       "  </thead>\n",
       "  <tbody>\n",
       "    <tr>\n",
       "      <th>count</th>\n",
       "      <td>100.000000</td>\n",
       "      <td>100.000000</td>\n",
       "      <td>100.000000</td>\n",
       "    </tr>\n",
       "    <tr>\n",
       "      <th>mean</th>\n",
       "      <td>0.500420</td>\n",
       "      <td>0.228701</td>\n",
       "      <td>0.500000</td>\n",
       "    </tr>\n",
       "    <tr>\n",
       "      <th>std</th>\n",
       "      <td>0.891044</td>\n",
       "      <td>0.592885</td>\n",
       "      <td>0.502519</td>\n",
       "    </tr>\n",
       "    <tr>\n",
       "      <th>min</th>\n",
       "      <td>-1.318500</td>\n",
       "      <td>-1.035702</td>\n",
       "      <td>0.000000</td>\n",
       "    </tr>\n",
       "    <tr>\n",
       "      <th>25%</th>\n",
       "      <td>-0.140330</td>\n",
       "      <td>-0.203260</td>\n",
       "      <td>0.000000</td>\n",
       "    </tr>\n",
       "    <tr>\n",
       "      <th>50%</th>\n",
       "      <td>0.470678</td>\n",
       "      <td>0.188660</td>\n",
       "      <td>0.500000</td>\n",
       "    </tr>\n",
       "    <tr>\n",
       "      <th>75%</th>\n",
       "      <td>1.112008</td>\n",
       "      <td>0.658448</td>\n",
       "      <td>1.000000</td>\n",
       "    </tr>\n",
       "    <tr>\n",
       "      <th>max</th>\n",
       "      <td>2.181372</td>\n",
       "      <td>1.571899</td>\n",
       "      <td>1.000000</td>\n",
       "    </tr>\n",
       "  </tbody>\n",
       "</table>\n",
       "</div>"
      ],
      "text/plain": [
       "                0           1           2\n",
       "count  100.000000  100.000000  100.000000\n",
       "mean     0.500420    0.228701    0.500000\n",
       "std      0.891044    0.592885    0.502519\n",
       "min     -1.318500   -1.035702    0.000000\n",
       "25%     -0.140330   -0.203260    0.000000\n",
       "50%      0.470678    0.188660    0.500000\n",
       "75%      1.112008    0.658448    1.000000\n",
       "max      2.181372    1.571899    1.000000"
      ]
     },
     "execution_count": 71,
     "metadata": {},
     "output_type": "execute_result"
    }
   ],
   "source": [
    "df.describe()"
   ]
  },
  {
   "cell_type": "code",
   "execution_count": 72,
   "id": "cada2975",
   "metadata": {},
   "outputs": [
    {
     "data": {
      "text/plain": [
       "0"
      ]
     },
     "execution_count": 72,
     "metadata": {},
     "output_type": "execute_result"
    }
   ],
   "source": [
    "df.duplicated().sum()"
   ]
  },
  {
   "cell_type": "code",
   "execution_count": 73,
   "id": "7a907697",
   "metadata": {},
   "outputs": [
    {
     "data": {
      "text/plain": [
       "0    0\n",
       "1    0\n",
       "2    0\n",
       "dtype: int64"
      ]
     },
     "execution_count": 73,
     "metadata": {},
     "output_type": "execute_result"
    }
   ],
   "source": [
    "df.isna().sum()"
   ]
  },
  {
   "cell_type": "code",
   "execution_count": 74,
   "id": "5edb4b35",
   "metadata": {},
   "outputs": [
    {
     "data": {
      "text/plain": [
       "0.0    50\n",
       "1.0    50\n",
       "Name: 2, dtype: int64"
      ]
     },
     "execution_count": 74,
     "metadata": {},
     "output_type": "execute_result"
    }
   ],
   "source": [
    "df[2].value_counts()"
   ]
  },
  {
   "cell_type": "markdown",
   "id": "8141d427",
   "metadata": {},
   "source": [
    "### Data Visualization:\n",
    "A scatter plot is created using Seaborn to visualize the data points, where the x-axis represents df[0], the y-axis represents df[1], and the color of the points is determined by df[2]"
   ]
  },
  {
   "cell_type": "code",
   "execution_count": 75,
   "id": "81b66528",
   "metadata": {},
   "outputs": [
    {
     "name": "stderr",
     "output_type": "stream",
     "text": [
      "C:\\Users\\dell\\anaconda3\\lib\\site-packages\\seaborn\\_decorators.py:36: FutureWarning: Pass the following variables as keyword args: x, y. From version 0.12, the only valid positional argument will be `data`, and passing other arguments without an explicit keyword will result in an error or misinterpretation.\n",
      "  warnings.warn(\n"
     ]
    },
    {
     "data": {
      "text/plain": [
       "<AxesSubplot:xlabel='0', ylabel='1'>"
      ]
     },
     "execution_count": 75,
     "metadata": {},
     "output_type": "execute_result"
    },
    {
     "data": {
      "image/png": "[encoded data removed]",
      "text/plain": [
       "<Figure size 432x288 with 1 Axes>"
      ]
     },
     "metadata": {
      "needs_background": "light"
     },
     "output_type": "display_data"
    }
   ],
   "source": [
    "sns.scatterplot(df[0],df[1],hue = df[2])"
   ]
  },
  {
   "cell_type": "markdown",
   "id": "85b32194",
   "metadata": {},
   "source": [
    "### Train-Test Split:\n",
    "The dataset is split into training and testing sets using the train_test_split function from scikit-learn. The features (x_train, x_test) consist of columns 0 and 1 from the DataFrame, while the target variables (y_train, y_test) correspond to column 2. The testing set size is set to 10% of the total dataset."
   ]
  },
  {
   "cell_type": "code",
   "execution_count": 76,
   "id": "dc61470a",
   "metadata": {},
   "outputs": [],
   "source": [
    "from sklearn.model_selection import train_test_split\n",
    "x_train,x_test,y_train,y_test=train_test_split(df[[0,1]],df[2],test_size=0.1)"
   ]
  },
  {
   "cell_type": "markdown",
   "id": "c4dcb4ae",
   "metadata": {},
   "source": [
    "### Data Preprocessing:\n",
    "The features are standardized using scikit-learn's StandardScaler. The fit_transform method is applied to the training set (x_train), and the transform method is applied to the testing set (x_test)."
   ]
  },
  {
   "cell_type": "code",
   "execution_count": 12,
   "id": "b8d7a178",
   "metadata": {},
   "outputs": [],
   "source": [
    "from sklearn.preprocessing import StandardScaler\n",
    "std=StandardScaler()\n",
    "x_trainf=std.fit_transform(x_train)\n",
    "x_testf=std.transform(x_test)"
   ]
  },
  {
   "cell_type": "markdown",
   "id": "eed0c007",
   "metadata": {},
   "source": [
    "### Importing necessary libraries:\n",
    "- TensorFlow and Keras are libraries.\n",
    "- Sequential is a linear stack of neural network layers.\n",
    "- Dense represents a fully connected layer."
   ]
  },
  {
   "cell_type": "code",
   "execution_count": 77,
   "id": "dd89238c",
   "metadata": {},
   "outputs": [],
   "source": [
    "import tensorflow\n",
    "from tensorflow import keras\n",
    "from keras.models import Sequential\n",
    "from keras.layers import Dense,Dropout"
   ]
  },
  {
   "cell_type": "markdown",
   "id": "c1eb3340",
   "metadata": {},
   "source": [
    "### Model Architecture:\n",
    "\n",
    "- The model is defined as a sequential model, which means the layers are stacked sequentially.\n",
    "- The first layer is a dense layer with 4 units/neurons, ReLU activation function, and He uniform kernel initializer. It takes input of dimension 2.\n",
    "- A dropout layer is added after the first dense layer with a dropout rate of 0.2. Dropout is a regularization technique used to prevent overfitting.\n",
    "- The second layer is another dense layer with 3 units/neurons, ReLU activation function, and He uniform kernel initializer.\n",
    "- Another dropout layer is added after the second dense layer with a dropout rate of 0.2.\n",
    "- The last layer is a dense layer with 1 unit/neuron and sigmoid activation function. It outputs the binary classification prediction (0 or 1)."
   ]
  },
  {
   "cell_type": "code",
   "execution_count": 51,
   "id": "86a5fd5c",
   "metadata": {},
   "outputs": [],
   "source": [
    "model = Sequential()\n",
    "model.add(Dense(4, activation=\"relu\", kernel_initializer='he_uniform', input_dim=2))\n",
    "model.add(Dropout(0.2))  # Dropout layer to reduce overfitting\n",
    "model.add(Dense(3, activation=\"relu\", kernel_initializer='he_uniform'))\n",
    "model.add(Dropout(0.2))  # Dropout layer to reduce overfitting\n",
    "model.add(Dense(1, activation=\"sigmoid\"))"
   ]
  },
  {
   "cell_type": "markdown",
   "id": "8e77fea2",
   "metadata": {},
   "source": [
    "### Model Summary:\n",
    "\n",
    "The summary function displays a summary of the model, including the layer types, output shapes, and the number of parameters."
   ]
  },
  {
   "cell_type": "code",
   "execution_count": 54,
   "id": "692910b7",
   "metadata": {},
   "outputs": [
    {
     "name": "stdout",
     "output_type": "stream",
     "text": [
      "Model: \"sequential_3\"\n",
      "_________________________________________________________________\n",
      " Layer (type)                Output Shape              Param #   \n",
      "=================================================================\n",
      " dense_9 (Dense)             (None, 4)                 12        \n",
      "                                                                 \n",
      " dropout_3 (Dropout)         (None, 4)                 0         \n",
      "                                                                 \n",
      " dense_10 (Dense)            (None, 3)                 15        \n",
      "                                                                 \n",
      " dropout_4 (Dropout)         (None, 3)                 0         \n",
      "                                                                 \n",
      " dense_11 (Dense)            (None, 1)                 4         \n",
      "                                                                 \n",
      "=================================================================\n",
      "Total params: 31\n",
      "Trainable params: 31\n",
      "Non-trainable params: 0\n",
      "_________________________________________________________________\n"
     ]
    }
   ],
   "source": [
    "model.summary()"
   ]
  },
  {
   "cell_type": "markdown",
   "id": "baa9a10d",
   "metadata": {},
   "source": [
    "### Compilation:\n",
    "\n",
    "- The model is compiled with the Adam optimizer, which is an optimization algorithm commonly used for training neural networks.\n",
    "- The loss function used is binary cross-entropy, suitable for binary classification problems.\n",
    "- The accuracy metric is specified to evaluate the model's performance during training."
   ]
  },
  {
   "cell_type": "code",
   "execution_count": 55,
   "id": "51287967",
   "metadata": {},
   "outputs": [],
   "source": [
    "model.compile(optimizer=\"Adam\",loss=\"binary_crossentropy\",metrics=[\"accuracy\"])"
   ]
  },
  {
   "cell_type": "markdown",
   "id": "f26b1dde",
   "metadata": {},
   "source": [
    "### Training:\n",
    "\n",
    "- The model is trained using the fit function, passing the training data (x_trainf and y_train) with a batch size of 20.\n",
    "- The training is performed for 80 epochs, which means the entire training dataset is passed through the model 80 times.\n",
    "- The validation split of 0.2 indicates that 20% of the training data will be used as validation data to monitor the model's performance during training.\n",
    "- The training history is stored in the history object."
   ]
  },
  {
   "cell_type": "code",
   "execution_count": 56,
   "id": "6c1d9085",
   "metadata": {},
   "outputs": [
    {
     "name": "stdout",
     "output_type": "stream",
     "text": [
      "Epoch 1/80\n",
      "4/4 [==============================] - 1s 38ms/step - loss: 0.6018 - accuracy: 0.5972 - val_loss: 0.5831 - val_accuracy: 0.4444\n",
      "Epoch 2/80\n",
      "4/4 [==============================] - 0s 6ms/step - loss: 0.6129 - accuracy: 0.5278 - val_loss: 0.5812 - val_accuracy: 0.5000\n",
      "Epoch 3/80\n",
      "4/4 [==============================] - 0s 6ms/step - loss: 0.5814 - accuracy: 0.6111 - val_loss: 0.5791 - val_accuracy: 0.5556\n",
      "Epoch 4/80\n",
      "4/4 [==============================] - 0s 6ms/step - loss: 0.6233 - accuracy: 0.5139 - val_loss: 0.5770 - val_accuracy: 0.6111\n",
      "Epoch 5/80\n",
      "4/4 [==============================] - 0s 6ms/step - loss: 0.6308 - accuracy: 0.4167 - val_loss: 0.5748 - val_accuracy: 0.6111\n",
      "Epoch 6/80\n",
      "4/4 [==============================] - 0s 7ms/step - loss: 0.6120 - accuracy: 0.5556 - val_loss: 0.5725 - val_accuracy: 0.6667\n",
      "Epoch 7/80\n",
      "4/4 [==============================] - 0s 6ms/step - loss: 0.5982 - accuracy: 0.5417 - val_loss: 0.5706 - val_accuracy: 0.6667\n",
      "Epoch 8/80\n",
      "4/4 [==============================] - 0s 6ms/step - loss: 0.5715 - accuracy: 0.5972 - val_loss: 0.5683 - val_accuracy: 0.6667\n",
      "Epoch 9/80\n",
      "4/4 [==============================] - 0s 7ms/step - loss: 0.5831 - accuracy: 0.6389 - val_loss: 0.5661 - val_accuracy: 0.6667\n",
      "Epoch 10/80\n",
      "4/4 [==============================] - 0s 6ms/step - loss: 0.5644 - accuracy: 0.6667 - val_loss: 0.5649 - val_accuracy: 0.6667\n",
      "Epoch 11/80\n",
      "4/4 [==============================] - 0s 7ms/step - loss: 0.5868 - accuracy: 0.5833 - val_loss: 0.5636 - val_accuracy: 0.6667\n",
      "Epoch 12/80\n",
      "4/4 [==============================] - 0s 6ms/step - loss: 0.6140 - accuracy: 0.5139 - val_loss: 0.5622 - val_accuracy: 0.6667\n",
      "Epoch 13/80\n",
      "4/4 [==============================] - 0s 7ms/step - loss: 0.5877 - accuracy: 0.5833 - val_loss: 0.5617 - val_accuracy: 0.7222\n",
      "Epoch 14/80\n",
      "4/4 [==============================] - 0s 8ms/step - loss: 0.5919 - accuracy: 0.5972 - val_loss: 0.5612 - val_accuracy: 0.7222\n",
      "Epoch 15/80\n",
      "4/4 [==============================] - 0s 7ms/step - loss: 0.5831 - accuracy: 0.5694 - val_loss: 0.5607 - val_accuracy: 0.7222\n",
      "Epoch 16/80\n",
      "4/4 [==============================] - 0s 7ms/step - loss: 0.5683 - accuracy: 0.6250 - val_loss: 0.5603 - val_accuracy: 0.7222\n",
      "Epoch 17/80\n",
      "4/4 [==============================] - 0s 7ms/step - loss: 0.6022 - accuracy: 0.5417 - val_loss: 0.5600 - val_accuracy: 0.7222\n",
      "Epoch 18/80\n",
      "4/4 [==============================] - 0s 6ms/step - loss: 0.5833 - accuracy: 0.5556 - val_loss: 0.5594 - val_accuracy: 0.7222\n",
      "Epoch 19/80\n",
      "4/4 [==============================] - 0s 7ms/step - loss: 0.5815 - accuracy: 0.5833 - val_loss: 0.5592 - val_accuracy: 0.7222\n",
      "Epoch 20/80\n",
      "4/4 [==============================] - 0s 8ms/step - loss: 0.6057 - accuracy: 0.5139 - val_loss: 0.5586 - val_accuracy: 0.7222\n",
      "Epoch 21/80\n",
      "4/4 [==============================] - 0s 6ms/step - loss: 0.5828 - accuracy: 0.5833 - val_loss: 0.5579 - val_accuracy: 0.7222\n",
      "Epoch 22/80\n",
      "4/4 [==============================] - 0s 7ms/step - loss: 0.5744 - accuracy: 0.6667 - val_loss: 0.5571 - val_accuracy: 0.7222\n",
      "Epoch 23/80\n",
      "4/4 [==============================] - 0s 8ms/step - loss: 0.5746 - accuracy: 0.6528 - val_loss: 0.5567 - val_accuracy: 0.7222\n",
      "Epoch 24/80\n",
      "4/4 [==============================] - 0s 7ms/step - loss: 0.5754 - accuracy: 0.6528 - val_loss: 0.5567 - val_accuracy: 0.7222\n",
      "Epoch 25/80\n",
      "4/4 [==============================] - 0s 7ms/step - loss: 0.5378 - accuracy: 0.6667 - val_loss: 0.5566 - val_accuracy: 0.7222\n",
      "Epoch 26/80\n",
      "4/4 [==============================] - 0s 6ms/step - loss: 0.5731 - accuracy: 0.6250 - val_loss: 0.5565 - val_accuracy: 0.7222\n",
      "Epoch 27/80\n",
      "4/4 [==============================] - 0s 7ms/step - loss: 0.5699 - accuracy: 0.6389 - val_loss: 0.5563 - val_accuracy: 0.7222\n",
      "Epoch 28/80\n",
      "4/4 [==============================] - 0s 8ms/step - loss: 0.5988 - accuracy: 0.5972 - val_loss: 0.5561 - val_accuracy: 0.7222\n",
      "Epoch 29/80\n",
      "4/4 [==============================] - 0s 8ms/step - loss: 0.5199 - accuracy: 0.6806 - val_loss: 0.5555 - val_accuracy: 0.7222\n",
      "Epoch 30/80\n",
      "4/4 [==============================] - 0s 7ms/step - loss: 0.5494 - accuracy: 0.6389 - val_loss: 0.5540 - val_accuracy: 0.7222\n",
      "Epoch 31/80\n",
      "4/4 [==============================] - 0s 6ms/step - loss: 0.5709 - accuracy: 0.5556 - val_loss: 0.5528 - val_accuracy: 0.7222\n",
      "Epoch 32/80\n",
      "4/4 [==============================] - 0s 6ms/step - loss: 0.5330 - accuracy: 0.6806 - val_loss: 0.5515 - val_accuracy: 0.7222\n",
      "Epoch 33/80\n",
      "4/4 [==============================] - 0s 6ms/step - loss: 0.5227 - accuracy: 0.7361 - val_loss: 0.5504 - val_accuracy: 0.7222\n",
      "Epoch 34/80\n",
      "4/4 [==============================] - 0s 6ms/step - loss: 0.5506 - accuracy: 0.6528 - val_loss: 0.5490 - val_accuracy: 0.7222\n",
      "Epoch 35/80\n",
      "4/4 [==============================] - 0s 6ms/step - loss: 0.5686 - accuracy: 0.6806 - val_loss: 0.5477 - val_accuracy: 0.7222\n",
      "Epoch 36/80\n",
      "4/4 [==============================] - 0s 6ms/step - loss: 0.5592 - accuracy: 0.6250 - val_loss: 0.5463 - val_accuracy: 0.7222\n",
      "Epoch 37/80\n",
      "4/4 [==============================] - 0s 7ms/step - loss: 0.5047 - accuracy: 0.7083 - val_loss: 0.5455 - val_accuracy: 0.7222\n",
      "Epoch 38/80\n",
      "4/4 [==============================] - 0s 6ms/step - loss: 0.5541 - accuracy: 0.6667 - val_loss: 0.5442 - val_accuracy: 0.7778\n",
      "Epoch 39/80\n",
      "4/4 [==============================] - 0s 7ms/step - loss: 0.5514 - accuracy: 0.6667 - val_loss: 0.5429 - val_accuracy: 0.7778\n",
      "Epoch 40/80\n",
      "4/4 [==============================] - 0s 6ms/step - loss: 0.5446 - accuracy: 0.6806 - val_loss: 0.5418 - val_accuracy: 0.7778\n",
      "Epoch 41/80\n",
      "4/4 [==============================] - 0s 7ms/step - loss: 0.5692 - accuracy: 0.5972 - val_loss: 0.5408 - val_accuracy: 0.7778\n",
      "Epoch 42/80\n",
      "4/4 [==============================] - 0s 6ms/step - loss: 0.5550 - accuracy: 0.6667 - val_loss: 0.5400 - val_accuracy: 0.7778\n",
      "Epoch 43/80\n",
      "4/4 [==============================] - 0s 6ms/step - loss: 0.5279 - accuracy: 0.6806 - val_loss: 0.5392 - val_accuracy: 0.7778\n",
      "Epoch 44/80\n",
      "4/4 [==============================] - 0s 6ms/step - loss: 0.5387 - accuracy: 0.6806 - val_loss: 0.5388 - val_accuracy: 0.7778\n",
      "Epoch 45/80\n",
      "4/4 [==============================] - 0s 7ms/step - loss: 0.5665 - accuracy: 0.6667 - val_loss: 0.5377 - val_accuracy: 0.7778\n",
      "Epoch 46/80\n",
      "4/4 [==============================] - 0s 6ms/step - loss: 0.5537 - accuracy: 0.6806 - val_loss: 0.5368 - val_accuracy: 0.7778\n",
      "Epoch 47/80\n",
      "4/4 [==============================] - 0s 6ms/step - loss: 0.5525 - accuracy: 0.6667 - val_loss: 0.5354 - val_accuracy: 0.7778\n",
      "Epoch 48/80\n",
      "4/4 [==============================] - 0s 6ms/step - loss: 0.5957 - accuracy: 0.6250 - val_loss: 0.5345 - val_accuracy: 0.7778\n",
      "Epoch 49/80\n",
      "4/4 [==============================] - 0s 6ms/step - loss: 0.5209 - accuracy: 0.6806 - val_loss: 0.5340 - val_accuracy: 0.7778\n",
      "Epoch 50/80\n",
      "4/4 [==============================] - 0s 7ms/step - loss: 0.5323 - accuracy: 0.6944 - val_loss: 0.5341 - val_accuracy: 0.7778\n",
      "Epoch 51/80\n",
      "4/4 [==============================] - 0s 7ms/step - loss: 0.5354 - accuracy: 0.7083 - val_loss: 0.5335 - val_accuracy: 0.7778\n",
      "Epoch 52/80\n",
      "4/4 [==============================] - 0s 6ms/step - loss: 0.5639 - accuracy: 0.6667 - val_loss: 0.5333 - val_accuracy: 0.7778\n",
      "Epoch 53/80\n",
      "4/4 [==============================] - 0s 6ms/step - loss: 0.5623 - accuracy: 0.6806 - val_loss: 0.5329 - val_accuracy: 0.7778\n",
      "Epoch 54/80\n",
      "4/4 [==============================] - 0s 6ms/step - loss: 0.5402 - accuracy: 0.6806 - val_loss: 0.5315 - val_accuracy: 0.7778\n",
      "Epoch 55/80\n",
      "4/4 [==============================] - 0s 6ms/step - loss: 0.4999 - accuracy: 0.7361 - val_loss: 0.5296 - val_accuracy: 0.7778\n",
      "Epoch 56/80\n",
      "4/4 [==============================] - 0s 6ms/step - loss: 0.5121 - accuracy: 0.7500 - val_loss: 0.5271 - val_accuracy: 0.8333\n",
      "Epoch 57/80\n",
      "4/4 [==============================] - 0s 6ms/step - loss: 0.5127 - accuracy: 0.7083 - val_loss: 0.5246 - val_accuracy: 0.8333\n",
      "Epoch 58/80\n",
      "4/4 [==============================] - 0s 7ms/step - loss: 0.5610 - accuracy: 0.6944 - val_loss: 0.5228 - val_accuracy: 0.8333\n",
      "Epoch 59/80\n",
      "4/4 [==============================] - 0s 6ms/step - loss: 0.5556 - accuracy: 0.6667 - val_loss: 0.5212 - val_accuracy: 0.8333\n"
     ]
    },
    {
     "name": "stdout",
     "output_type": "stream",
     "text": [
      "Epoch 60/80\n",
      "4/4 [==============================] - 0s 6ms/step - loss: 0.5321 - accuracy: 0.7222 - val_loss: 0.5203 - val_accuracy: 0.8333\n",
      "Epoch 61/80\n",
      "4/4 [==============================] - 0s 6ms/step - loss: 0.5202 - accuracy: 0.7639 - val_loss: 0.5199 - val_accuracy: 0.8333\n",
      "Epoch 62/80\n",
      "4/4 [==============================] - 0s 6ms/step - loss: 0.5380 - accuracy: 0.6806 - val_loss: 0.5188 - val_accuracy: 0.8333\n",
      "Epoch 63/80\n",
      "4/4 [==============================] - 0s 6ms/step - loss: 0.5003 - accuracy: 0.7361 - val_loss: 0.5171 - val_accuracy: 0.8333\n",
      "Epoch 64/80\n",
      "4/4 [==============================] - 0s 6ms/step - loss: 0.5360 - accuracy: 0.7222 - val_loss: 0.5152 - val_accuracy: 0.8333\n",
      "Epoch 65/80\n",
      "4/4 [==============================] - 0s 6ms/step - loss: 0.5584 - accuracy: 0.7222 - val_loss: 0.5133 - val_accuracy: 0.8333\n",
      "Epoch 66/80\n",
      "4/4 [==============================] - 0s 6ms/step - loss: 0.5542 - accuracy: 0.6528 - val_loss: 0.5113 - val_accuracy: 0.8333\n",
      "Epoch 67/80\n",
      "4/4 [==============================] - 0s 6ms/step - loss: 0.5308 - accuracy: 0.7083 - val_loss: 0.5096 - val_accuracy: 0.8333\n",
      "Epoch 68/80\n",
      "4/4 [==============================] - 0s 6ms/step - loss: 0.5118 - accuracy: 0.7083 - val_loss: 0.5083 - val_accuracy: 0.8333\n",
      "Epoch 69/80\n",
      "4/4 [==============================] - 0s 6ms/step - loss: 0.5504 - accuracy: 0.7083 - val_loss: 0.5075 - val_accuracy: 0.8333\n",
      "Epoch 70/80\n",
      "4/4 [==============================] - 0s 6ms/step - loss: 0.5424 - accuracy: 0.6528 - val_loss: 0.5072 - val_accuracy: 0.8333\n",
      "Epoch 71/80\n",
      "4/4 [==============================] - 0s 6ms/step - loss: 0.5440 - accuracy: 0.7083 - val_loss: 0.5069 - val_accuracy: 0.8333\n",
      "Epoch 72/80\n",
      "4/4 [==============================] - 0s 6ms/step - loss: 0.4971 - accuracy: 0.7778 - val_loss: 0.5061 - val_accuracy: 0.8333\n",
      "Epoch 73/80\n",
      "4/4 [==============================] - 0s 6ms/step - loss: 0.5503 - accuracy: 0.6528 - val_loss: 0.5054 - val_accuracy: 0.8333\n",
      "Epoch 74/80\n",
      "4/4 [==============================] - 0s 6ms/step - loss: 0.5257 - accuracy: 0.7500 - val_loss: 0.5046 - val_accuracy: 0.8333\n",
      "Epoch 75/80\n",
      "4/4 [==============================] - 0s 6ms/step - loss: 0.5337 - accuracy: 0.7361 - val_loss: 0.5038 - val_accuracy: 0.8333\n",
      "Epoch 76/80\n",
      "4/4 [==============================] - 0s 6ms/step - loss: 0.5265 - accuracy: 0.7083 - val_loss: 0.5021 - val_accuracy: 0.8889\n",
      "Epoch 77/80\n",
      "4/4 [==============================] - 0s 6ms/step - loss: 0.4984 - accuracy: 0.7500 - val_loss: 0.5005 - val_accuracy: 0.8889\n",
      "Epoch 78/80\n",
      "4/4 [==============================] - 0s 6ms/step - loss: 0.5241 - accuracy: 0.7500 - val_loss: 0.4990 - val_accuracy: 0.8889\n",
      "Epoch 79/80\n",
      "4/4 [==============================] - 0s 6ms/step - loss: 0.4888 - accuracy: 0.7778 - val_loss: 0.4974 - val_accuracy: 0.8889\n",
      "Epoch 80/80\n",
      "4/4 [==============================] - 0s 6ms/step - loss: 0.5397 - accuracy: 0.6944 - val_loss: 0.4965 - val_accuracy: 0.8889\n"
     ]
    }
   ],
   "source": [
    "history=model.fit(x_trainf,y_train,batch_size=20,epochs=80,validation_split=0.2)"
   ]
  },
  {
   "cell_type": "markdown",
   "id": "93277ad6",
   "metadata": {},
   "source": [
    "### Prediction and Evaluation:\n",
    "\n",
    "- The model is used to predict the classes for the test data (x_testf) using the predict function. The predictions are stored in y_cap.\n",
    "- A threshold of 0.5 is applied to the predicted probabilities to obtain binary predictions (y_capf) by setting values above 0.5 to 1 and values below or equal to 0.5 to 0.\n"
   ]
  },
  {
   "cell_type": "code",
   "execution_count": 58,
   "id": "86944e50",
   "metadata": {},
   "outputs": [],
   "source": [
    "y_cap=model.predict(x_testf)"
   ]
  },
  {
   "cell_type": "code",
   "execution_count": 59,
   "id": "2683cda8",
   "metadata": {},
   "outputs": [],
   "source": [
    "y_capf=np.where(y_cap>0.5,1,0)"
   ]
  },
  {
   "cell_type": "markdown",
   "id": "d41b29ef",
   "metadata": {},
   "source": [
    "#### The accuracy of the model's predictions is calculated using the accuracy_score function from the scikit-learn library, comparing the true labels (y_test) with the predicted labels (y_capf)."
   ]
  },
  {
   "cell_type": "code",
   "execution_count": 60,
   "id": "e82828bc",
   "metadata": {},
   "outputs": [
    {
     "data": {
      "text/plain": [
       "0.9"
      ]
     },
     "execution_count": 60,
     "metadata": {},
     "output_type": "execute_result"
    }
   ],
   "source": [
    "from sklearn.metrics import accuracy_score\n",
    "accuracy_score(y_test,y_capf)"
   ]
  },
  {
   "cell_type": "code",
   "execution_count": 61,
   "id": "a4b8d8d5",
   "metadata": {},
   "outputs": [
    {
     "data": {
      "text/plain": [
       "[<matplotlib.lines.Line2D at 0x1ac54b0df40>]"
      ]
     },
     "execution_count": 61,
     "metadata": {},
     "output_type": "execute_result"
    },
    {
     "data": {
      "image/png": "[encoded data removed]",
      "text/plain": [
       "<Figure size 432x288 with 1 Axes>"
      ]
     },
     "metadata": {
      "needs_background": "light"
     },
     "output_type": "display_data"
    }
   ],
   "source": [
    "plt.plot(history.history['loss'])\n",
    "plt.plot(history.history['val_loss'])"
   ]
  },
  {
   "cell_type": "markdown",
   "id": "95a78f55",
   "metadata": {},
   "source": [
    "### Visualization:\n",
    "\n",
    "\n",
    "- The plot_decision_regions function from the mlxtend library is used to visualize the decision boundaries of the model. It plots the decision regions based on the features in columns 0 and 1 of the DataFrame df and the corresponding class labels in column 2.\n",
    "- Plot_decision_regions are made: one with the training data (df[[0,1]].values, df[2].values.astype(int)) and another with the test data (x_testf, y_test.values.astype(int))."
   ]
  },
  {
   "cell_type": "code",
   "execution_count": 62,
   "id": "1ab3974f",
   "metadata": {},
   "outputs": [],
   "source": [
    "from mlxtend.plotting import plot_decision_regions"
   ]
  },
  {
   "cell_type": "code",
   "execution_count": 63,
   "id": "ef5318fd",
   "metadata": {},
   "outputs": [
    {
     "data": {
      "text/plain": [
       "<AxesSubplot:>"
      ]
     },
     "execution_count": 63,
     "metadata": {},
     "output_type": "execute_result"
    },
    {
     "data": {
      "image/png": "[encoded data removed]",
      "text/plain": [
       "<Figure size 432x288 with 1 Axes>"
      ]
     },
     "metadata": {
      "needs_background": "light"
     },
     "output_type": "display_data"
    }
   ],
   "source": [
    "plot_decision_regions(df[[0,1]].values,df[2].values.astype(int),clf=model)"
   ]
  },
  {
   "cell_type": "markdown",
   "id": "58f7f288",
   "metadata": {},
   "source": [
    "##### - The decision boundaries of the model are visualized using the mlxtend library.."
   ]
  },
  {
   "cell_type": "code",
   "execution_count": 65,
   "id": "06f7c339",
   "metadata": {},
   "outputs": [
    {
     "data": {
      "text/plain": [
       "<AxesSubplot:>"
      ]
     },
     "execution_count": 65,
     "metadata": {},
     "output_type": "execute_result"
    },
    {
     "data": {
      "image/png": "[encoded data removed]",
      "text/plain": [
       "<Figure size 432x288 with 1 Axes>"
      ]
     },
     "metadata": {
      "needs_background": "light"
     },
     "output_type": "display_data"
    }
   ],
   "source": [
    "plot_decision_regions(x_testf,y_test.values.astype(int),clf=model)"
   ]
  },
  {
   "cell_type": "code",
   "execution_count": null,
   "id": "4245877a",
   "metadata": {},
   "outputs": [],
   "source": []
  }
 ],
 "metadata": {
  "kernelspec": {
   "display_name": "Python 3 (ipykernel)",
   "language": "python",
   "name": "python3"
  },
  "language_info": {
   "codemirror_mode": {
    "name": "ipython",
    "version": 3
   },
   "file_extension": ".py",
   "mimetype": "text/x-python",
   "name": "python",
   "nbconvert_exporter": "python",
   "pygments_lexer": "ipython3",
   "version": "3.9.12"
  }
 },
 "nbformat": 4,
 "nbformat_minor": 5
}
